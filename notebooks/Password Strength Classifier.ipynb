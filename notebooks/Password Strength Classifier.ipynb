{
 "cells": [
  {
   "cell_type": "code",
   "execution_count": 1,
   "metadata": {},
   "outputs": [
    {
     "name": "stderr",
     "output_type": "stream",
     "text": [
      "also installing the dependencies 'lattice', 'colorspace', 'sys', 'bit', 'ps', 'rappdirs', 'rematch', 'nlme', 'Matrix', 'farver', 'labeling', 'munsell', 'RColorBrewer', 'viridisLite', 'askpass', 'bit64', 'prettyunits', 'processx', 'highr', 'yaml', 'xfun', 'tinytex', 'jquerylib', 'backports', 'ellipsis', 'generics', 'glue', 'assertthat', 'blob', 'DBI', 'lifecycle', 'R6', 'tidyselect', 'vctrs', 'withr', 'data.table', 'gargle', 'cellranger', 'curl', 'ids', 'rematch2', 'gtable', 'isoband', 'MASS', 'mgcv', 'scales', 'cpp11', 'pkgconfig', 'mime', 'openssl', 'fansi', 'utf8', 'clipr', 'vroom', 'tzdb', 'progress', 'callr', 'fs', 'knitr', 'rmarkdown', 'selectr', 'stringi', 'broom', 'cli', 'crayon', 'dbplyr', 'dplyr', 'dtplyr', 'forcats', 'googledrive', 'googlesheets4', 'ggplot2', 'haven', 'hms', 'httr', 'jsonlite', 'lubridate', 'magrittr', 'modelr', 'pillar', 'purrr', 'readr', 'readxl', 'reprex', 'rlang', 'rstudioapi', 'rvest', 'stringr', 'tibble', 'tidyr', 'xml2'\n",
      "\n"
     ]
    },
    {
     "name": "stdout",
     "output_type": "stream",
     "text": [
      "\n",
      "  There are binary versions available but the source versions are later:\n",
      "               binary  source needs_compilation\n",
      "lattice       0.20-44 0.20-45              TRUE\n",
      "colorspace      2.0-1   2.0-2              TRUE\n",
      "nlme          3.1-152 3.1-153              TRUE\n",
      "Matrix          1.3-3   1.3-4              TRUE\n",
      "xfun             0.22    0.28              TRUE\n",
      "tinytex          0.31    0.35             FALSE\n",
      "backports       1.2.1   1.4.0              TRUE\n",
      "generics        0.1.0   0.1.1             FALSE\n",
      "glue            1.4.2   1.5.0              TRUE\n",
      "blob            1.2.1   1.2.2             FALSE\n",
      "lifecycle       1.0.0   1.0.1             FALSE\n",
      "R6              2.5.0   2.5.1             FALSE\n",
      "data.table     1.14.0  1.14.2              TRUE\n",
      "gargle          1.1.0   1.2.0             FALSE\n",
      "curl            4.3.1   4.3.2              TRUE\n",
      "isoband         0.2.4   0.2.5              TRUE\n",
      "mgcv           1.8-35  1.8-38              TRUE\n",
      "cpp11           0.2.7   0.4.1             FALSE\n",
      "mime             0.10    0.12              TRUE\n",
      "openssl         1.4.4   1.4.5              TRUE\n",
      "fansi           0.4.2   0.5.0              TRUE\n",
      "utf8            1.2.1   1.2.2              TRUE\n",
      "vroom           1.4.0   1.5.6              TRUE\n",
      "tzdb            0.1.1   0.2.0              TRUE\n",
      "knitr            1.33    1.36             FALSE\n",
      "rmarkdown         2.8    2.11             FALSE\n",
      "stringi         1.6.1   1.7.6              TRUE\n",
      "broom           0.7.6  0.7.10             FALSE\n",
      "cli             2.5.0   3.1.0              TRUE\n",
      "crayon          1.4.1   1.4.2             FALSE\n",
      "dplyr           1.0.6   1.0.7              TRUE\n",
      "googledrive     1.0.1   2.0.0             FALSE\n",
      "googlesheets4   0.3.0   1.0.0             FALSE\n",
      "ggplot2         3.3.3   3.3.5             FALSE\n",
      "haven           2.4.1   2.4.3              TRUE\n",
      "hms             1.0.0   1.1.1             FALSE\n",
      "lubridate      1.7.10   1.8.0              TRUE\n",
      "pillar          1.6.0   1.6.4             FALSE\n",
      "readr           1.4.0   2.1.0              TRUE\n",
      "reprex          2.0.0   2.0.1             FALSE\n",
      "rlang          0.4.11  0.4.12              TRUE\n",
      "rvest           1.0.0   1.0.2             FALSE\n",
      "tibble          3.1.1   3.1.6              TRUE\n",
      "tidyr           1.1.3   1.1.4              TRUE\n",
      "\n",
      "  Binaries will be installed\n"
     ]
    },
    {
     "name": "stderr",
     "output_type": "stream",
     "text": [
      "Warning message in download.file(url, destfile, method, mode = \"wb\", ...):\n",
      "\"downloaded length 9093120 != reported length 16420946\""
     ]
    },
    {
     "name": "stdout",
     "output_type": "stream",
     "text": [
      "package 'lattice' successfully unpacked and MD5 sums checked\n",
      "package 'colorspace' successfully unpacked and MD5 sums checked\n",
      "package 'sys' successfully unpacked and MD5 sums checked\n",
      "package 'bit' successfully unpacked and MD5 sums checked\n",
      "package 'ps' successfully unpacked and MD5 sums checked\n",
      "package 'rappdirs' successfully unpacked and MD5 sums checked\n",
      "package 'rematch' successfully unpacked and MD5 sums checked\n",
      "package 'nlme' successfully unpacked and MD5 sums checked\n",
      "package 'Matrix' successfully unpacked and MD5 sums checked\n",
      "package 'farver' successfully unpacked and MD5 sums checked\n",
      "package 'labeling' successfully unpacked and MD5 sums checked\n",
      "package 'munsell' successfully unpacked and MD5 sums checked\n",
      "package 'RColorBrewer' successfully unpacked and MD5 sums checked\n",
      "package 'viridisLite' successfully unpacked and MD5 sums checked\n",
      "package 'askpass' successfully unpacked and MD5 sums checked\n",
      "package 'bit64' successfully unpacked and MD5 sums checked\n",
      "package 'prettyunits' successfully unpacked and MD5 sums checked\n",
      "package 'processx' successfully unpacked and MD5 sums checked\n",
      "package 'highr' successfully unpacked and MD5 sums checked\n",
      "package 'yaml' successfully unpacked and MD5 sums checked\n",
      "package 'xfun' successfully unpacked and MD5 sums checked\n",
      "package 'jquerylib' successfully unpacked and MD5 sums checked\n",
      "package 'backports' successfully unpacked and MD5 sums checked\n",
      "package 'ellipsis' successfully unpacked and MD5 sums checked\n",
      "package 'glue' successfully unpacked and MD5 sums checked\n",
      "package 'assertthat' successfully unpacked and MD5 sums checked\n",
      "package 'DBI' successfully unpacked and MD5 sums checked\n",
      "package 'tidyselect' successfully unpacked and MD5 sums checked\n",
      "package 'vctrs' successfully unpacked and MD5 sums checked\n",
      "package 'withr' successfully unpacked and MD5 sums checked\n",
      "package 'data.table' successfully unpacked and MD5 sums checked\n",
      "package 'cellranger' successfully unpacked and MD5 sums checked\n",
      "package 'curl' successfully unpacked and MD5 sums checked\n",
      "package 'ids' successfully unpacked and MD5 sums checked\n",
      "package 'rematch2' successfully unpacked and MD5 sums checked\n",
      "package 'gtable' successfully unpacked and MD5 sums checked\n",
      "package 'isoband' successfully unpacked and MD5 sums checked\n",
      "package 'MASS' successfully unpacked and MD5 sums checked\n",
      "package 'mgcv' successfully unpacked and MD5 sums checked\n",
      "package 'scales' successfully unpacked and MD5 sums checked\n",
      "package 'pkgconfig' successfully unpacked and MD5 sums checked\n",
      "package 'mime' successfully unpacked and MD5 sums checked\n",
      "package 'openssl' successfully unpacked and MD5 sums checked\n",
      "package 'fansi' successfully unpacked and MD5 sums checked\n",
      "package 'utf8' successfully unpacked and MD5 sums checked\n",
      "package 'clipr' successfully unpacked and MD5 sums checked\n",
      "package 'vroom' successfully unpacked and MD5 sums checked\n",
      "package 'tzdb' successfully unpacked and MD5 sums checked\n",
      "package 'progress' successfully unpacked and MD5 sums checked\n",
      "package 'callr' successfully unpacked and MD5 sums checked\n",
      "package 'fs' successfully unpacked and MD5 sums checked\n",
      "package 'selectr' successfully unpacked and MD5 sums checked\n"
     ]
    },
    {
     "name": "stderr",
     "output_type": "stream",
     "text": [
      "Warning message in unzip(zipname, exdir = dest):\n",
      "\"error 1 in extracting from zip file\"Warning message in read.dcf(file.path(pkgname, \"DESCRIPTION\"), c(\"Package\", \"Type\")):\n",
      "\"cannot open compressed file 'stringi/DESCRIPTION', probable reason 'No such file or directory'\""
     ]
    },
    {
     "ename": "ERROR",
     "evalue": "Error in read.dcf(file.path(pkgname, \"DESCRIPTION\"), c(\"Package\", \"Type\")): cannot open the connection\n",
     "output_type": "error",
     "traceback": [
      "Error in read.dcf(file.path(pkgname, \"DESCRIPTION\"), c(\"Package\", \"Type\")): cannot open the connection\nTraceback:\n",
      "1. install.packages(\"tidyverse\")",
      "2. .install.winbinary(pkgs = bins, lib = lib, contriburl = contrib.url(repos, \n .     type2), method = method, available = av2, destdir = destdir, \n .     dependencies = NULL, libs_only = libs_only, quiet = quiet, \n .     ...)",
      "3. unpackPkgZip(foundpkgs[okp, 2L], foundpkgs[okp, 1L], lib, libs_only, \n .     lock)",
      "4. read.dcf(file.path(pkgname, \"DESCRIPTION\"), c(\"Package\", \"Type\"))"
     ]
    }
   ],
   "source": [
    "install.packages('tidyverse')"
   ]
  },
  {
   "cell_type": "code",
   "execution_count": null,
   "metadata": {},
   "outputs": [],
   "source": []
  }
 ],
 "metadata": {
  "kernelspec": {
   "display_name": "R",
   "language": "R",
   "name": "ir"
  },
  "language_info": {
   "codemirror_mode": "r",
   "file_extension": ".r",
   "mimetype": "text/x-r-source",
   "name": "R",
   "pygments_lexer": "r",
   "version": "3.6.1"
  }
 },
 "nbformat": 4,
 "nbformat_minor": 4
}
