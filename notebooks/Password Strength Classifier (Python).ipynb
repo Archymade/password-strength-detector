{
 "cells": [
  {
   "cell_type": "code",
   "execution_count": 1,
   "metadata": {},
   "outputs": [],
   "source": [
    "import pandas as pd\n",
    "import os\n",
    "import re\n",
    "import numpy as np\n",
    "import string\n",
    "import gc"
   ]
  },
  {
   "cell_type": "code",
   "execution_count": 2,
   "metadata": {},
   "outputs": [],
   "source": [
    "!jt -t chesterish -cellw 1700 -cursc g -nf JBBold -f ibmMonoRegular -nfs 15 -fs 15 -T -N -kl -tf ibmMonoRegular -dfs 13 -tfs 14 -ofs 12"
   ]
  },
  {
   "cell_type": "code",
   "execution_count": 3,
   "metadata": {},
   "outputs": [],
   "source": [
    "### Import dataset\n",
    "data = pd.read_csv(os.path.join(os.getcwd().replace('notebooks', ''), 'data', 'password_dataset.csv'))"
   ]
  },
  {
   "cell_type": "code",
   "execution_count": 4,
   "metadata": {},
   "outputs": [
    {
     "data": {
      "text/plain": [
       "(669879, 2)"
      ]
     },
     "execution_count": 4,
     "metadata": {},
     "output_type": "execute_result"
    }
   ],
   "source": [
    "data.shape"
   ]
  },
  {
   "cell_type": "code",
   "execution_count": 5,
   "metadata": {},
   "outputs": [
    {
     "data": {
      "text/html": [
       "<div>\n",
       "<style scoped>\n",
       "    .dataframe tbody tr th:only-of-type {\n",
       "        vertical-align: middle;\n",
       "    }\n",
       "\n",
       "    .dataframe tbody tr th {\n",
       "        vertical-align: top;\n",
       "    }\n",
       "\n",
       "    .dataframe thead th {\n",
       "        text-align: right;\n",
       "    }\n",
       "</style>\n",
       "<table border=\"1\" class=\"dataframe\">\n",
       "  <thead>\n",
       "    <tr style=\"text-align: right;\">\n",
       "      <th></th>\n",
       "      <th>password</th>\n",
       "      <th>strength</th>\n",
       "    </tr>\n",
       "  </thead>\n",
       "  <tbody>\n",
       "    <tr>\n",
       "      <th>0</th>\n",
       "      <td>kzde5577</td>\n",
       "      <td>moderate</td>\n",
       "    </tr>\n",
       "    <tr>\n",
       "      <th>1</th>\n",
       "      <td>kino3434</td>\n",
       "      <td>moderate</td>\n",
       "    </tr>\n",
       "    <tr>\n",
       "      <th>2</th>\n",
       "      <td>visi7k1yr</td>\n",
       "      <td>moderate</td>\n",
       "    </tr>\n",
       "    <tr>\n",
       "      <th>3</th>\n",
       "      <td>megzy123</td>\n",
       "      <td>moderate</td>\n",
       "    </tr>\n",
       "    <tr>\n",
       "      <th>4</th>\n",
       "      <td>lamborghin1</td>\n",
       "      <td>moderate</td>\n",
       "    </tr>\n",
       "  </tbody>\n",
       "</table>\n",
       "</div>"
      ],
      "text/plain": [
       "      password  strength\n",
       "0     kzde5577  moderate\n",
       "1     kino3434  moderate\n",
       "2    visi7k1yr  moderate\n",
       "3     megzy123  moderate\n",
       "4  lamborghin1  moderate"
      ]
     },
     "execution_count": 5,
     "metadata": {},
     "output_type": "execute_result"
    }
   ],
   "source": [
    "data.head()"
   ]
  },
  {
   "cell_type": "code",
   "execution_count": 6,
   "metadata": {},
   "outputs": [
    {
     "data": {
      "text/plain": [
       "password    object\n",
       "strength    object\n",
       "dtype: object"
      ]
     },
     "execution_count": 6,
     "metadata": {},
     "output_type": "execute_result"
    }
   ],
   "source": [
    "data.dtypes"
   ]
  },
  {
   "cell_type": "code",
   "execution_count": 7,
   "metadata": {},
   "outputs": [],
   "source": [
    "pwords = data.iloc[:, 0]"
   ]
  },
  {
   "cell_type": "code",
   "execution_count": 8,
   "metadata": {},
   "outputs": [
    {
     "data": {
      "text/plain": [
       "pandas.core.series.Series"
      ]
     },
     "execution_count": 8,
     "metadata": {},
     "output_type": "execute_result"
    }
   ],
   "source": [
    "type(pwords)"
   ]
  },
  {
   "cell_type": "code",
   "execution_count": 9,
   "metadata": {},
   "outputs": [],
   "source": [
    "new_data = data.copy()"
   ]
  },
  {
   "cell_type": "code",
   "execution_count": 10,
   "metadata": {},
   "outputs": [],
   "source": [
    "def count_characters(s, upper = False, alpha = True):\n",
    "    \n",
    "    ''' Count the characters in the string:\n",
    "        upper alphabets, lower alphabets, or numeric characters. '''\n",
    "    \n",
    "    if alpha:\n",
    "        if upper:\n",
    "            r = len([l for l in s if l in string.ascii_uppercase])\n",
    "        else:\n",
    "            r = len([l for l in s if l in string.ascii_lowercase])\n",
    "    else:\n",
    "        r = len([n for n in s if n.isnumeric()])\n",
    "    \n",
    "    return r"
   ]
  },
  {
   "cell_type": "markdown",
   "metadata": {},
   "source": [
    "**Missing values**"
   ]
  },
  {
   "cell_type": "code",
   "execution_count": 11,
   "metadata": {},
   "outputs": [
    {
     "data": {
      "text/plain": [
       "1"
      ]
     },
     "execution_count": 11,
     "metadata": {},
     "output_type": "execute_result"
    }
   ],
   "source": [
    "### Missing passwords?\n",
    "pwords.isnull().sum()"
   ]
  },
  {
   "cell_type": "code",
   "execution_count": 12,
   "metadata": {},
   "outputs": [],
   "source": [
    "### Find the index for missing password\n",
    "missing_ix = pwords[pwords.isnull()].index.values.item()"
   ]
  },
  {
   "cell_type": "code",
   "execution_count": 13,
   "metadata": {},
   "outputs": [
    {
     "data": {
      "text/plain": [
       "367718"
      ]
     },
     "execution_count": 13,
     "metadata": {},
     "output_type": "execute_result"
    }
   ],
   "source": [
    "missing_ix"
   ]
  },
  {
   "cell_type": "code",
   "execution_count": 14,
   "metadata": {},
   "outputs": [
    {
     "data": {
      "text/plain": [
       "password     NaN\n",
       "strength    weak\n",
       "Name: 367718, dtype: object"
      ]
     },
     "execution_count": 14,
     "metadata": {},
     "output_type": "execute_result"
    }
   ],
   "source": [
    "data.iloc[missing_ix, :]"
   ]
  },
  {
   "cell_type": "code",
   "execution_count": 15,
   "metadata": {},
   "outputs": [
    {
     "data": {
      "text/plain": [
       "moderate    496801\n",
       "weak         89702\n",
       "strong       83137\n",
       "Name: strength, dtype: int64"
      ]
     },
     "execution_count": 15,
     "metadata": {},
     "output_type": "execute_result"
    }
   ],
   "source": [
    "data['strength'].value_counts()"
   ]
  },
  {
   "cell_type": "code",
   "execution_count": 16,
   "metadata": {},
   "outputs": [
    {
     "data": {
      "text/plain": [
       "239"
      ]
     },
     "execution_count": 16,
     "metadata": {},
     "output_type": "execute_result"
    }
   ],
   "source": [
    "data['strength'].isnull().sum()"
   ]
  },
  {
   "cell_type": "code",
   "execution_count": 17,
   "metadata": {},
   "outputs": [],
   "source": [
    "d = data[data['strength'].isnull()]['password'].str.lower()"
   ]
  },
  {
   "cell_type": "code",
   "execution_count": 18,
   "metadata": {},
   "outputs": [
    {
     "data": {
      "text/plain": [
       "array(['selim'], dtype=object)"
      ]
     },
     "execution_count": 18,
     "metadata": {},
     "output_type": "execute_result"
    }
   ],
   "source": [
    "d.unique()"
   ]
  },
  {
   "cell_type": "code",
   "execution_count": 19,
   "metadata": {},
   "outputs": [],
   "source": [
    "selim_ix = np.where(data['password'].str.lower() == 'selim')[0]"
   ]
  },
  {
   "cell_type": "code",
   "execution_count": 20,
   "metadata": {},
   "outputs": [
    {
     "data": {
      "text/plain": [
       "array([  2808,   4639,   7169,  11218,  13807,  14130,  14291,  14863,\n",
       "        17417,  22799,  24999,  26601,  26740,  29700,  32765,  32876,\n",
       "        35641,  36548,  38730,  40565,  40574,  41862,  46859,  47937,\n",
       "        48626,  48906,  57580,  58780,  58982,  61516,  63449,  68139,\n",
       "        72081,  74025,  77809,  83956,  85293,  88663,  89196,  92497,\n",
       "        92749,  93687,  94774,  97332, 102314, 103419, 106870, 109361,\n",
       "       110115, 110463, 113841, 115632, 121516, 123690, 124706, 129606,\n",
       "       133174, 135530, 138040, 139483, 140399, 144091, 149848, 151829,\n",
       "       158012, 162045, 164513, 170311, 171323, 171422, 175918, 176208,\n",
       "       183601, 190262, 191681, 191986, 195448, 195752, 197122, 199261,\n",
       "       202601, 209958, 213216, 217058, 220119, 223516, 226291, 227033,\n",
       "       227339, 227806, 228514, 228731, 232041, 232424, 234488, 239624,\n",
       "       240459, 244516, 245393, 246166, 246653, 246750, 247187, 250274,\n",
       "       255325, 257092, 264624, 265026, 269148, 271358, 273973, 274740,\n",
       "       276225, 279805, 283423, 287466, 292993, 293494, 293733, 295058,\n",
       "       296641, 296846, 308924, 310358, 317002, 318205, 331781, 333862,\n",
       "       335956, 336288, 343524, 343855, 344057, 348689, 353444, 357071,\n",
       "       359751, 359972, 366532, 369512, 377757, 379325, 380767, 381071,\n",
       "       381487, 386302, 387633, 389611, 392602, 393182, 395528, 396937,\n",
       "       397383, 397507, 402900, 405185, 408410, 419421, 420960, 425963,\n",
       "       427494, 438879, 439774, 440343, 445505, 445546, 447182, 448601,\n",
       "       451730, 458247, 460272, 467628, 473959, 476279, 478008, 478320,\n",
       "       479997, 480896, 481686, 485191, 485517, 485998, 489061, 494523,\n",
       "       495007, 501952, 508033, 508826, 509831, 510408, 518227, 520300,\n",
       "       520338, 525172, 526249, 529609, 531396, 534144, 544952, 553000,\n",
       "       553881, 553885, 553913, 554170, 563532, 565189, 574106, 574410,\n",
       "       575983, 580089, 582680, 585883, 590169, 591922, 592513, 593886,\n",
       "       596243, 607342, 607631, 610937, 613636, 615641, 615899, 617387,\n",
       "       634639, 635753, 646241, 647163, 648608, 648770, 651831, 653661,\n",
       "       656231, 656692, 659781, 660476, 661131, 661734, 669825],\n",
       "      dtype=int64)"
      ]
     },
     "execution_count": 20,
     "metadata": {},
     "output_type": "execute_result"
    }
   ],
   "source": [
    "selim_ix"
   ]
  },
  {
   "cell_type": "code",
   "execution_count": 21,
   "metadata": {},
   "outputs": [],
   "source": [
    "### Drop the missing values\n",
    "data.drop(labels = [missing_ix] + selim_ix.tolist(), axis = 0, inplace = True)\n",
    "new_data.drop(labels = [missing_ix] + selim_ix.tolist(), axis = 0, inplace = True)"
   ]
  },
  {
   "cell_type": "code",
   "execution_count": 22,
   "metadata": {},
   "outputs": [],
   "source": [
    "pwords = data.iloc[:, 0]"
   ]
  },
  {
   "cell_type": "markdown",
   "metadata": {},
   "source": [
    "**Feature 1:**\n",
    "\n",
    "**Number of Uppercase alphabets**"
   ]
  },
  {
   "cell_type": "code",
   "execution_count": 23,
   "metadata": {},
   "outputs": [],
   "source": [
    "new_data['num_upper'] = pwords.apply(count_characters, convert_dtype = False, **{'alpha' : True, 'upper' : True})"
   ]
  },
  {
   "cell_type": "markdown",
   "metadata": {},
   "source": [
    "**Feature 2:**\n",
    "\n",
    "**Number of Lowercase alphabets**"
   ]
  },
  {
   "cell_type": "code",
   "execution_count": 24,
   "metadata": {},
   "outputs": [],
   "source": [
    "new_data['num_lower'] = pwords.apply(count_characters, convert_dtype = False, **{'alpha' : True, 'upper' : False})"
   ]
  },
  {
   "cell_type": "markdown",
   "metadata": {},
   "source": [
    "**Feature 3:**\n",
    "\n",
    "**Number of Numeric characters**"
   ]
  },
  {
   "cell_type": "code",
   "execution_count": 25,
   "metadata": {},
   "outputs": [],
   "source": [
    "new_data['num_numbers'] = pwords.apply(count_characters, convert_dtype = False, **{'alpha' : False, 'upper' : True})"
   ]
  },
  {
   "cell_type": "markdown",
   "metadata": {},
   "source": [
    "**Feature 4:**\n",
    "\n",
    "**Length of password**"
   ]
  },
  {
   "cell_type": "code",
   "execution_count": 26,
   "metadata": {},
   "outputs": [],
   "source": [
    "new_data['password_length'] = pwords.apply(lambda x: len(x))"
   ]
  },
  {
   "cell_type": "code",
   "execution_count": 27,
   "metadata": {},
   "outputs": [
    {
     "data": {
      "text/html": [
       "<div>\n",
       "<style scoped>\n",
       "    .dataframe tbody tr th:only-of-type {\n",
       "        vertical-align: middle;\n",
       "    }\n",
       "\n",
       "    .dataframe tbody tr th {\n",
       "        vertical-align: top;\n",
       "    }\n",
       "\n",
       "    .dataframe thead th {\n",
       "        text-align: right;\n",
       "    }\n",
       "</style>\n",
       "<table border=\"1\" class=\"dataframe\">\n",
       "  <thead>\n",
       "    <tr style=\"text-align: right;\">\n",
       "      <th></th>\n",
       "      <th>password</th>\n",
       "      <th>strength</th>\n",
       "      <th>num_upper</th>\n",
       "      <th>num_lower</th>\n",
       "      <th>num_numbers</th>\n",
       "      <th>password_length</th>\n",
       "    </tr>\n",
       "  </thead>\n",
       "  <tbody>\n",
       "    <tr>\n",
       "      <th>0</th>\n",
       "      <td>kzde5577</td>\n",
       "      <td>moderate</td>\n",
       "      <td>0</td>\n",
       "      <td>4</td>\n",
       "      <td>4</td>\n",
       "      <td>8</td>\n",
       "    </tr>\n",
       "    <tr>\n",
       "      <th>1</th>\n",
       "      <td>kino3434</td>\n",
       "      <td>moderate</td>\n",
       "      <td>0</td>\n",
       "      <td>4</td>\n",
       "      <td>4</td>\n",
       "      <td>8</td>\n",
       "    </tr>\n",
       "    <tr>\n",
       "      <th>2</th>\n",
       "      <td>visi7k1yr</td>\n",
       "      <td>moderate</td>\n",
       "      <td>0</td>\n",
       "      <td>7</td>\n",
       "      <td>2</td>\n",
       "      <td>9</td>\n",
       "    </tr>\n",
       "    <tr>\n",
       "      <th>3</th>\n",
       "      <td>megzy123</td>\n",
       "      <td>moderate</td>\n",
       "      <td>0</td>\n",
       "      <td>5</td>\n",
       "      <td>3</td>\n",
       "      <td>8</td>\n",
       "    </tr>\n",
       "    <tr>\n",
       "      <th>4</th>\n",
       "      <td>lamborghin1</td>\n",
       "      <td>moderate</td>\n",
       "      <td>0</td>\n",
       "      <td>10</td>\n",
       "      <td>1</td>\n",
       "      <td>11</td>\n",
       "    </tr>\n",
       "  </tbody>\n",
       "</table>\n",
       "</div>"
      ],
      "text/plain": [
       "      password  strength num_upper num_lower num_numbers  password_length\n",
       "0     kzde5577  moderate         0         4           4                8\n",
       "1     kino3434  moderate         0         4           4                8\n",
       "2    visi7k1yr  moderate         0         7           2                9\n",
       "3     megzy123  moderate         0         5           3                8\n",
       "4  lamborghin1  moderate         0        10           1               11"
      ]
     },
     "execution_count": 27,
     "metadata": {},
     "output_type": "execute_result"
    }
   ],
   "source": [
    "new_data.head()"
   ]
  },
  {
   "cell_type": "code",
   "execution_count": 28,
   "metadata": {},
   "outputs": [],
   "source": [
    "def get_consecutive_numbers(x):\n",
    "    ix = -1\n",
    "    num_consec = 0\n",
    "    \n",
    "    for s in x:\n",
    "        ### Account for possible multiple character occurences\n",
    "        if x.count(s) > 1:\n",
    "            ix += 1\n",
    "        else:\n",
    "            ix = x.index(s)\n",
    "        \n",
    "        ### Watch out for end of string\n",
    "        if ix == len(x) - 1:\n",
    "            break\n",
    "        else:\n",
    "            ### Finally, count\n",
    "            if s.isnumeric() & x[ix + 1].isnumeric():\n",
    "                num_consec += 1\n",
    "    \n",
    "    return num_consec"
   ]
  },
  {
   "cell_type": "markdown",
   "metadata": {},
   "source": [
    "**Feature 5:**\n",
    "\n",
    "**Number of consecutive number pairs**"
   ]
  },
  {
   "cell_type": "code",
   "execution_count": 29,
   "metadata": {},
   "outputs": [],
   "source": [
    "new_data['consecutive_num_pairs'] = pwords.apply(get_consecutive_numbers)"
   ]
  },
  {
   "cell_type": "code",
   "execution_count": 30,
   "metadata": {},
   "outputs": [
    {
     "data": {
      "text/html": [
       "<div>\n",
       "<style scoped>\n",
       "    .dataframe tbody tr th:only-of-type {\n",
       "        vertical-align: middle;\n",
       "    }\n",
       "\n",
       "    .dataframe tbody tr th {\n",
       "        vertical-align: top;\n",
       "    }\n",
       "\n",
       "    .dataframe thead th {\n",
       "        text-align: right;\n",
       "    }\n",
       "</style>\n",
       "<table border=\"1\" class=\"dataframe\">\n",
       "  <thead>\n",
       "    <tr style=\"text-align: right;\">\n",
       "      <th></th>\n",
       "      <th>password</th>\n",
       "      <th>strength</th>\n",
       "      <th>num_upper</th>\n",
       "      <th>num_lower</th>\n",
       "      <th>num_numbers</th>\n",
       "      <th>password_length</th>\n",
       "      <th>consecutive_num_pairs</th>\n",
       "    </tr>\n",
       "  </thead>\n",
       "  <tbody>\n",
       "    <tr>\n",
       "      <th>0</th>\n",
       "      <td>kzde5577</td>\n",
       "      <td>moderate</td>\n",
       "      <td>0</td>\n",
       "      <td>4</td>\n",
       "      <td>4</td>\n",
       "      <td>8</td>\n",
       "      <td>3</td>\n",
       "    </tr>\n",
       "    <tr>\n",
       "      <th>1</th>\n",
       "      <td>kino3434</td>\n",
       "      <td>moderate</td>\n",
       "      <td>0</td>\n",
       "      <td>4</td>\n",
       "      <td>4</td>\n",
       "      <td>8</td>\n",
       "      <td>3</td>\n",
       "    </tr>\n",
       "    <tr>\n",
       "      <th>2</th>\n",
       "      <td>visi7k1yr</td>\n",
       "      <td>moderate</td>\n",
       "      <td>0</td>\n",
       "      <td>7</td>\n",
       "      <td>2</td>\n",
       "      <td>9</td>\n",
       "      <td>0</td>\n",
       "    </tr>\n",
       "    <tr>\n",
       "      <th>3</th>\n",
       "      <td>megzy123</td>\n",
       "      <td>moderate</td>\n",
       "      <td>0</td>\n",
       "      <td>5</td>\n",
       "      <td>3</td>\n",
       "      <td>8</td>\n",
       "      <td>2</td>\n",
       "    </tr>\n",
       "    <tr>\n",
       "      <th>4</th>\n",
       "      <td>lamborghin1</td>\n",
       "      <td>moderate</td>\n",
       "      <td>0</td>\n",
       "      <td>10</td>\n",
       "      <td>1</td>\n",
       "      <td>11</td>\n",
       "      <td>0</td>\n",
       "    </tr>\n",
       "    <tr>\n",
       "      <th>5</th>\n",
       "      <td>AVYq1lDE4MgAZfNt</td>\n",
       "      <td>strong</td>\n",
       "      <td>9</td>\n",
       "      <td>5</td>\n",
       "      <td>2</td>\n",
       "      <td>16</td>\n",
       "      <td>0</td>\n",
       "    </tr>\n",
       "    <tr>\n",
       "      <th>6</th>\n",
       "      <td>u6c8vhow</td>\n",
       "      <td>moderate</td>\n",
       "      <td>0</td>\n",
       "      <td>6</td>\n",
       "      <td>2</td>\n",
       "      <td>8</td>\n",
       "      <td>0</td>\n",
       "    </tr>\n",
       "    <tr>\n",
       "      <th>7</th>\n",
       "      <td>v1118714</td>\n",
       "      <td>moderate</td>\n",
       "      <td>0</td>\n",
       "      <td>1</td>\n",
       "      <td>7</td>\n",
       "      <td>8</td>\n",
       "      <td>6</td>\n",
       "    </tr>\n",
       "    <tr>\n",
       "      <th>8</th>\n",
       "      <td>universe2908</td>\n",
       "      <td>moderate</td>\n",
       "      <td>0</td>\n",
       "      <td>8</td>\n",
       "      <td>4</td>\n",
       "      <td>12</td>\n",
       "      <td>3</td>\n",
       "    </tr>\n",
       "    <tr>\n",
       "      <th>9</th>\n",
       "      <td>as326159</td>\n",
       "      <td>moderate</td>\n",
       "      <td>0</td>\n",
       "      <td>2</td>\n",
       "      <td>6</td>\n",
       "      <td>8</td>\n",
       "      <td>5</td>\n",
       "    </tr>\n",
       "  </tbody>\n",
       "</table>\n",
       "</div>"
      ],
      "text/plain": [
       "           password  strength num_upper num_lower num_numbers  \\\n",
       "0          kzde5577  moderate         0         4           4   \n",
       "1          kino3434  moderate         0         4           4   \n",
       "2         visi7k1yr  moderate         0         7           2   \n",
       "3          megzy123  moderate         0         5           3   \n",
       "4       lamborghin1  moderate         0        10           1   \n",
       "5  AVYq1lDE4MgAZfNt    strong         9         5           2   \n",
       "6          u6c8vhow  moderate         0         6           2   \n",
       "7          v1118714  moderate         0         1           7   \n",
       "8      universe2908  moderate         0         8           4   \n",
       "9          as326159  moderate         0         2           6   \n",
       "\n",
       "   password_length  consecutive_num_pairs  \n",
       "0                8                      3  \n",
       "1                8                      3  \n",
       "2                9                      0  \n",
       "3                8                      2  \n",
       "4               11                      0  \n",
       "5               16                      0  \n",
       "6                8                      0  \n",
       "7                8                      6  \n",
       "8               12                      3  \n",
       "9                8                      5  "
      ]
     },
     "execution_count": 30,
     "metadata": {},
     "output_type": "execute_result"
    }
   ],
   "source": [
    "new_data.head(n = 10)"
   ]
  },
  {
   "cell_type": "markdown",
   "metadata": {},
   "source": [
    "**Feature 6:**\n",
    "\n",
    "**Consecutive keyboard buttons?**"
   ]
  },
  {
   "cell_type": "code",
   "execution_count": 31,
   "metadata": {},
   "outputs": [],
   "source": [
    "pattern = r'.*(qwert|qwer|rewq|wert|poiu|oiuy|bvcx|uytr|hgfd|iuyt|xcvb|sdfg|fghj|mnbv|jhgf|asdf|zxcv|poiuy|;lkj|lkjh|erty|rtyui|dfghj|cvbnm).*'"
   ]
  },
  {
   "cell_type": "code",
   "execution_count": 32,
   "metadata": {},
   "outputs": [],
   "source": [
    "new_pattern = pattern[::-1].replace('(', ')')"
   ]
  },
  {
   "cell_type": "code",
   "execution_count": 33,
   "metadata": {},
   "outputs": [],
   "source": [
    "new_pattern = new_pattern.replace(')', '(')"
   ]
  },
  {
   "cell_type": "code",
   "execution_count": 34,
   "metadata": {},
   "outputs": [
    {
     "data": {
      "text/plain": [
       "'*.(mnbvc|jhgfd|iuytr|ytre|hjkl|jkl;|yuiop|vcxz|fdsa|fghj|vbnm|jhgf|gfds|bvcx|tyui|dfgh|rtyu|xcvb|yuio|uiop|trew|qwer|rewq|trewq(*.'"
      ]
     },
     "execution_count": 34,
     "metadata": {},
     "output_type": "execute_result"
    }
   ],
   "source": [
    "new_pattern"
   ]
  },
  {
   "cell_type": "code",
   "execution_count": 35,
   "metadata": {},
   "outputs": [],
   "source": [
    "new_pattern = '.*' + new_pattern[2:-3] + ')' + '.*'"
   ]
  },
  {
   "cell_type": "code",
   "execution_count": 36,
   "metadata": {},
   "outputs": [
    {
     "data": {
      "text/plain": [
       "'.*(qwert|qwer|rewq|wert|poiu|oiuy|bvcx|uytr|hgfd|iuyt|xcvb|sdfg|fghj|mnbv|jhgf|asdf|zxcv|poiuy|;lkj|lkjh|erty|rtyui|dfghj|cvbnm).*'"
      ]
     },
     "execution_count": 36,
     "metadata": {},
     "output_type": "execute_result"
    }
   ],
   "source": [
    "pattern"
   ]
  },
  {
   "cell_type": "code",
   "execution_count": 37,
   "metadata": {},
   "outputs": [
    {
     "data": {
      "text/plain": [
       "'.*(mnbvc|jhgfd|iuytr|ytre|hjkl|jkl;|yuiop|vcxz|fdsa|fghj|vbnm|jhgf|gfds|bvcx|tyui|dfgh|rtyu|xcvb|yuio|uiop|trew|qwer|rewq|trewq).*'"
      ]
     },
     "execution_count": 37,
     "metadata": {},
     "output_type": "execute_result"
    }
   ],
   "source": [
    "new_pattern"
   ]
  },
  {
   "cell_type": "code",
   "execution_count": 38,
   "metadata": {},
   "outputs": [],
   "source": [
    "match = re.match(re.compile(pattern), 'tdiefuiuodjhgfasdf')"
   ]
  },
  {
   "cell_type": "code",
   "execution_count": 39,
   "metadata": {},
   "outputs": [],
   "source": [
    "def match_re(s, p1, p2):\n",
    "    \n",
    "    ''' Match patterns p1 and p2 to string, s.'''\n",
    "    \n",
    "    if re.match(p1, s.lower()) or re.match(p2, s.lower()):\n",
    "        return True\n",
    "    else:\n",
    "        return False"
   ]
  },
  {
   "cell_type": "code",
   "execution_count": 40,
   "metadata": {},
   "outputs": [],
   "source": [
    "new_data['consec_kboard_chars'] = pwords.apply(match_re, convert_dtype = True,\n",
    "                                               **dict(zip(('p1', 'p2'), (pattern, new_pattern))))"
   ]
  },
  {
   "cell_type": "code",
   "execution_count": 41,
   "metadata": {},
   "outputs": [
    {
     "data": {
      "text/html": [
       "<div>\n",
       "<style scoped>\n",
       "    .dataframe tbody tr th:only-of-type {\n",
       "        vertical-align: middle;\n",
       "    }\n",
       "\n",
       "    .dataframe tbody tr th {\n",
       "        vertical-align: top;\n",
       "    }\n",
       "\n",
       "    .dataframe thead th {\n",
       "        text-align: right;\n",
       "    }\n",
       "</style>\n",
       "<table border=\"1\" class=\"dataframe\">\n",
       "  <thead>\n",
       "    <tr style=\"text-align: right;\">\n",
       "      <th></th>\n",
       "      <th>password</th>\n",
       "      <th>strength</th>\n",
       "      <th>num_upper</th>\n",
       "      <th>num_lower</th>\n",
       "      <th>num_numbers</th>\n",
       "      <th>password_length</th>\n",
       "      <th>consecutive_num_pairs</th>\n",
       "      <th>consec_kboard_chars</th>\n",
       "    </tr>\n",
       "  </thead>\n",
       "  <tbody>\n",
       "    <tr>\n",
       "      <th>0</th>\n",
       "      <td>kzde5577</td>\n",
       "      <td>moderate</td>\n",
       "      <td>0</td>\n",
       "      <td>4</td>\n",
       "      <td>4</td>\n",
       "      <td>8</td>\n",
       "      <td>3</td>\n",
       "      <td>False</td>\n",
       "    </tr>\n",
       "    <tr>\n",
       "      <th>1</th>\n",
       "      <td>kino3434</td>\n",
       "      <td>moderate</td>\n",
       "      <td>0</td>\n",
       "      <td>4</td>\n",
       "      <td>4</td>\n",
       "      <td>8</td>\n",
       "      <td>3</td>\n",
       "      <td>False</td>\n",
       "    </tr>\n",
       "    <tr>\n",
       "      <th>2</th>\n",
       "      <td>visi7k1yr</td>\n",
       "      <td>moderate</td>\n",
       "      <td>0</td>\n",
       "      <td>7</td>\n",
       "      <td>2</td>\n",
       "      <td>9</td>\n",
       "      <td>0</td>\n",
       "      <td>False</td>\n",
       "    </tr>\n",
       "    <tr>\n",
       "      <th>3</th>\n",
       "      <td>megzy123</td>\n",
       "      <td>moderate</td>\n",
       "      <td>0</td>\n",
       "      <td>5</td>\n",
       "      <td>3</td>\n",
       "      <td>8</td>\n",
       "      <td>2</td>\n",
       "      <td>False</td>\n",
       "    </tr>\n",
       "    <tr>\n",
       "      <th>4</th>\n",
       "      <td>lamborghin1</td>\n",
       "      <td>moderate</td>\n",
       "      <td>0</td>\n",
       "      <td>10</td>\n",
       "      <td>1</td>\n",
       "      <td>11</td>\n",
       "      <td>0</td>\n",
       "      <td>False</td>\n",
       "    </tr>\n",
       "    <tr>\n",
       "      <th>5</th>\n",
       "      <td>AVYq1lDE4MgAZfNt</td>\n",
       "      <td>strong</td>\n",
       "      <td>9</td>\n",
       "      <td>5</td>\n",
       "      <td>2</td>\n",
       "      <td>16</td>\n",
       "      <td>0</td>\n",
       "      <td>False</td>\n",
       "    </tr>\n",
       "    <tr>\n",
       "      <th>6</th>\n",
       "      <td>u6c8vhow</td>\n",
       "      <td>moderate</td>\n",
       "      <td>0</td>\n",
       "      <td>6</td>\n",
       "      <td>2</td>\n",
       "      <td>8</td>\n",
       "      <td>0</td>\n",
       "      <td>False</td>\n",
       "    </tr>\n",
       "    <tr>\n",
       "      <th>7</th>\n",
       "      <td>v1118714</td>\n",
       "      <td>moderate</td>\n",
       "      <td>0</td>\n",
       "      <td>1</td>\n",
       "      <td>7</td>\n",
       "      <td>8</td>\n",
       "      <td>6</td>\n",
       "      <td>False</td>\n",
       "    </tr>\n",
       "    <tr>\n",
       "      <th>8</th>\n",
       "      <td>universe2908</td>\n",
       "      <td>moderate</td>\n",
       "      <td>0</td>\n",
       "      <td>8</td>\n",
       "      <td>4</td>\n",
       "      <td>12</td>\n",
       "      <td>3</td>\n",
       "      <td>False</td>\n",
       "    </tr>\n",
       "    <tr>\n",
       "      <th>9</th>\n",
       "      <td>as326159</td>\n",
       "      <td>moderate</td>\n",
       "      <td>0</td>\n",
       "      <td>2</td>\n",
       "      <td>6</td>\n",
       "      <td>8</td>\n",
       "      <td>5</td>\n",
       "      <td>False</td>\n",
       "    </tr>\n",
       "  </tbody>\n",
       "</table>\n",
       "</div>"
      ],
      "text/plain": [
       "           password  strength num_upper num_lower num_numbers  \\\n",
       "0          kzde5577  moderate         0         4           4   \n",
       "1          kino3434  moderate         0         4           4   \n",
       "2         visi7k1yr  moderate         0         7           2   \n",
       "3          megzy123  moderate         0         5           3   \n",
       "4       lamborghin1  moderate         0        10           1   \n",
       "5  AVYq1lDE4MgAZfNt    strong         9         5           2   \n",
       "6          u6c8vhow  moderate         0         6           2   \n",
       "7          v1118714  moderate         0         1           7   \n",
       "8      universe2908  moderate         0         8           4   \n",
       "9          as326159  moderate         0         2           6   \n",
       "\n",
       "   password_length  consecutive_num_pairs  consec_kboard_chars  \n",
       "0                8                      3                False  \n",
       "1                8                      3                False  \n",
       "2                9                      0                False  \n",
       "3                8                      2                False  \n",
       "4               11                      0                False  \n",
       "5               16                      0                False  \n",
       "6                8                      0                False  \n",
       "7                8                      6                False  \n",
       "8               12                      3                False  \n",
       "9                8                      5                False  "
      ]
     },
     "execution_count": 41,
     "metadata": {},
     "output_type": "execute_result"
    }
   ],
   "source": [
    "new_data.head(10)"
   ]
  },
  {
   "cell_type": "code",
   "execution_count": 42,
   "metadata": {},
   "outputs": [
    {
     "data": {
      "text/plain": [
       "False    667288\n",
       "True       2351\n",
       "Name: consec_kboard_chars, dtype: int64"
      ]
     },
     "execution_count": 42,
     "metadata": {},
     "output_type": "execute_result"
    }
   ],
   "source": [
    "new_data['consec_kboard_chars'].value_counts()"
   ]
  },
  {
   "cell_type": "code",
   "execution_count": 43,
   "metadata": {},
   "outputs": [
    {
     "data": {
      "text/html": [
       "<div>\n",
       "<style scoped>\n",
       "    .dataframe tbody tr th:only-of-type {\n",
       "        vertical-align: middle;\n",
       "    }\n",
       "\n",
       "    .dataframe tbody tr th {\n",
       "        vertical-align: top;\n",
       "    }\n",
       "\n",
       "    .dataframe thead th {\n",
       "        text-align: right;\n",
       "    }\n",
       "</style>\n",
       "<table border=\"1\" class=\"dataframe\">\n",
       "  <thead>\n",
       "    <tr style=\"text-align: right;\">\n",
       "      <th></th>\n",
       "      <th>password</th>\n",
       "      <th>strength</th>\n",
       "      <th>num_upper</th>\n",
       "      <th>num_lower</th>\n",
       "      <th>num_numbers</th>\n",
       "      <th>password_length</th>\n",
       "      <th>consecutive_num_pairs</th>\n",
       "      <th>consec_kboard_chars</th>\n",
       "    </tr>\n",
       "  </thead>\n",
       "  <tbody>\n",
       "    <tr>\n",
       "      <th>269</th>\n",
       "      <td>QWERTY0011</td>\n",
       "      <td>moderate</td>\n",
       "      <td>6</td>\n",
       "      <td>0</td>\n",
       "      <td>4</td>\n",
       "      <td>10</td>\n",
       "      <td>3</td>\n",
       "      <td>True</td>\n",
       "    </tr>\n",
       "    <tr>\n",
       "      <th>397</th>\n",
       "      <td>asdasdf1</td>\n",
       "      <td>moderate</td>\n",
       "      <td>0</td>\n",
       "      <td>7</td>\n",
       "      <td>1</td>\n",
       "      <td>8</td>\n",
       "      <td>0</td>\n",
       "      <td>True</td>\n",
       "    </tr>\n",
       "    <tr>\n",
       "      <th>586</th>\n",
       "      <td>azerty32</td>\n",
       "      <td>moderate</td>\n",
       "      <td>0</td>\n",
       "      <td>6</td>\n",
       "      <td>2</td>\n",
       "      <td>8</td>\n",
       "      <td>1</td>\n",
       "      <td>True</td>\n",
       "    </tr>\n",
       "    <tr>\n",
       "      <th>1046</th>\n",
       "      <td>qwertyp17</td>\n",
       "      <td>moderate</td>\n",
       "      <td>0</td>\n",
       "      <td>7</td>\n",
       "      <td>2</td>\n",
       "      <td>9</td>\n",
       "      <td>1</td>\n",
       "      <td>True</td>\n",
       "    </tr>\n",
       "    <tr>\n",
       "      <th>1315</th>\n",
       "      <td>aw34rtgvcxz</td>\n",
       "      <td>moderate</td>\n",
       "      <td>0</td>\n",
       "      <td>9</td>\n",
       "      <td>2</td>\n",
       "      <td>11</td>\n",
       "      <td>1</td>\n",
       "      <td>True</td>\n",
       "    </tr>\n",
       "    <tr>\n",
       "      <th>...</th>\n",
       "      <td>...</td>\n",
       "      <td>...</td>\n",
       "      <td>...</td>\n",
       "      <td>...</td>\n",
       "      <td>...</td>\n",
       "      <td>...</td>\n",
       "      <td>...</td>\n",
       "      <td>...</td>\n",
       "    </tr>\n",
       "    <tr>\n",
       "      <th>668544</th>\n",
       "      <td>property138</td>\n",
       "      <td>moderate</td>\n",
       "      <td>0</td>\n",
       "      <td>8</td>\n",
       "      <td>3</td>\n",
       "      <td>11</td>\n",
       "      <td>2</td>\n",
       "      <td>True</td>\n",
       "    </tr>\n",
       "    <tr>\n",
       "      <th>668856</th>\n",
       "      <td>1VHFgHjAyOAd2ZWI</td>\n",
       "      <td>strong</td>\n",
       "      <td>10</td>\n",
       "      <td>4</td>\n",
       "      <td>2</td>\n",
       "      <td>16</td>\n",
       "      <td>0</td>\n",
       "      <td>True</td>\n",
       "    </tr>\n",
       "    <tr>\n",
       "      <th>668913</th>\n",
       "      <td>azerty312</td>\n",
       "      <td>moderate</td>\n",
       "      <td>0</td>\n",
       "      <td>6</td>\n",
       "      <td>3</td>\n",
       "      <td>9</td>\n",
       "      <td>2</td>\n",
       "      <td>True</td>\n",
       "    </tr>\n",
       "    <tr>\n",
       "      <th>669490</th>\n",
       "      <td>2456asdf</td>\n",
       "      <td>moderate</td>\n",
       "      <td>0</td>\n",
       "      <td>4</td>\n",
       "      <td>4</td>\n",
       "      <td>8</td>\n",
       "      <td>3</td>\n",
       "      <td>True</td>\n",
       "    </tr>\n",
       "    <tr>\n",
       "      <th>669495</th>\n",
       "      <td>qwertybhoy123</td>\n",
       "      <td>moderate</td>\n",
       "      <td>0</td>\n",
       "      <td>10</td>\n",
       "      <td>3</td>\n",
       "      <td>13</td>\n",
       "      <td>2</td>\n",
       "      <td>True</td>\n",
       "    </tr>\n",
       "  </tbody>\n",
       "</table>\n",
       "<p>2351 rows × 8 columns</p>\n",
       "</div>"
      ],
      "text/plain": [
       "                password  strength num_upper num_lower num_numbers  \\\n",
       "269           QWERTY0011  moderate         6         0           4   \n",
       "397             asdasdf1  moderate         0         7           1   \n",
       "586             azerty32  moderate         0         6           2   \n",
       "1046           qwertyp17  moderate         0         7           2   \n",
       "1315         aw34rtgvcxz  moderate         0         9           2   \n",
       "...                  ...       ...       ...       ...         ...   \n",
       "668544       property138  moderate         0         8           3   \n",
       "668856  1VHFgHjAyOAd2ZWI    strong        10         4           2   \n",
       "668913         azerty312  moderate         0         6           3   \n",
       "669490          2456asdf  moderate         0         4           4   \n",
       "669495     qwertybhoy123  moderate         0        10           3   \n",
       "\n",
       "        password_length  consecutive_num_pairs  consec_kboard_chars  \n",
       "269                  10                      3                 True  \n",
       "397                   8                      0                 True  \n",
       "586                   8                      1                 True  \n",
       "1046                  9                      1                 True  \n",
       "1315                 11                      1                 True  \n",
       "...                 ...                    ...                  ...  \n",
       "668544               11                      2                 True  \n",
       "668856               16                      0                 True  \n",
       "668913                9                      2                 True  \n",
       "669490                8                      3                 True  \n",
       "669495               13                      2                 True  \n",
       "\n",
       "[2351 rows x 8 columns]"
      ]
     },
     "execution_count": 43,
     "metadata": {},
     "output_type": "execute_result"
    }
   ],
   "source": [
    "new_data[new_data['consec_kboard_chars'] == True]"
   ]
  },
  {
   "cell_type": "code",
   "execution_count": 44,
   "metadata": {},
   "outputs": [
    {
     "data": {
      "text/plain": [
       "0     582570\n",
       "7      13902\n",
       "8      12920\n",
       "6      12761\n",
       "1       9289\n",
       "5       9067\n",
       "9       8984\n",
       "4       5542\n",
       "10      4771\n",
       "2       3750\n",
       "3       3348\n",
       "11      1920\n",
       "12       580\n",
       "13       149\n",
       "14        40\n",
       "15        13\n",
       "16         8\n",
       "17         7\n",
       "19         5\n",
       "25         3\n",
       "22         3\n",
       "18         3\n",
       "80         1\n",
       "30         1\n",
       "38         1\n",
       "77         1\n",
       "Name: num_upper, dtype: int64"
      ]
     },
     "execution_count": 44,
     "metadata": {},
     "output_type": "execute_result"
    }
   ],
   "source": [
    "new_data['num_upper'].value_counts()"
   ]
  },
  {
   "cell_type": "code",
   "execution_count": 45,
   "metadata": {},
   "outputs": [
    {
     "data": {
      "text/html": [
       "<div>\n",
       "<style scoped>\n",
       "    .dataframe tbody tr th:only-of-type {\n",
       "        vertical-align: middle;\n",
       "    }\n",
       "\n",
       "    .dataframe tbody tr th {\n",
       "        vertical-align: top;\n",
       "    }\n",
       "\n",
       "    .dataframe thead th {\n",
       "        text-align: right;\n",
       "    }\n",
       "</style>\n",
       "<table border=\"1\" class=\"dataframe\">\n",
       "  <thead>\n",
       "    <tr style=\"text-align: right;\">\n",
       "      <th></th>\n",
       "      <th>password</th>\n",
       "      <th>strength</th>\n",
       "      <th>num_upper</th>\n",
       "      <th>num_lower</th>\n",
       "      <th>num_numbers</th>\n",
       "      <th>password_length</th>\n",
       "      <th>consecutive_num_pairs</th>\n",
       "      <th>consec_kboard_chars</th>\n",
       "    </tr>\n",
       "  </thead>\n",
       "  <tbody>\n",
       "    <tr>\n",
       "      <th>8897</th>\n",
       "      <td>2N8ziL2L3N!&amp;R@s6VDTSWP33KyKlvoeCNqT1*3Ejf7rG6l...</td>\n",
       "      <td>strong</td>\n",
       "      <td>25</td>\n",
       "      <td>18</td>\n",
       "      <td>16</td>\n",
       "      <td>64</td>\n",
       "      <td>1</td>\n",
       "      <td>False</td>\n",
       "    </tr>\n",
       "    <tr>\n",
       "      <th>26977</th>\n",
       "      <td>In0LnUoff8wfayJGqzelyDqg4AMl9gBhgl3T2iZeONzh5g...</td>\n",
       "      <td>strong</td>\n",
       "      <td>80</td>\n",
       "      <td>109</td>\n",
       "      <td>31</td>\n",
       "      <td>220</td>\n",
       "      <td>3</td>\n",
       "      <td>False</td>\n",
       "    </tr>\n",
       "    <tr>\n",
       "      <th>108013</th>\n",
       "      <td>YZM4YVKKBV7MDZ4FFDZZ-DVVDY</td>\n",
       "      <td>strong</td>\n",
       "      <td>22</td>\n",
       "      <td>0</td>\n",
       "      <td>3</td>\n",
       "      <td>26</td>\n",
       "      <td>0</td>\n",
       "      <td>False</td>\n",
       "    </tr>\n",
       "    <tr>\n",
       "      <th>125650</th>\n",
       "      <td>bV1*tB2$s$LW0$fgCqGetE$dZop9ugK7ftSl8BQu*$E4!r...</td>\n",
       "      <td>strong</td>\n",
       "      <td>30</td>\n",
       "      <td>34</td>\n",
       "      <td>15</td>\n",
       "      <td>100</td>\n",
       "      <td>1</td>\n",
       "      <td>False</td>\n",
       "    </tr>\n",
       "    <tr>\n",
       "      <th>238016</th>\n",
       "      <td>n43sSh567hDjJ678Fj5D857I6j58SjJ876F89762k3liyU...</td>\n",
       "      <td>strong</td>\n",
       "      <td>38</td>\n",
       "      <td>70</td>\n",
       "      <td>39</td>\n",
       "      <td>147</td>\n",
       "      <td>17</td>\n",
       "      <td>False</td>\n",
       "    </tr>\n",
       "    <tr>\n",
       "      <th>266666</th>\n",
       "      <td>LAUD123FILTER* DETEKTORENPRIEM</td>\n",
       "      <td>strong</td>\n",
       "      <td>25</td>\n",
       "      <td>0</td>\n",
       "      <td>3</td>\n",
       "      <td>30</td>\n",
       "      <td>2</td>\n",
       "      <td>False</td>\n",
       "    </tr>\n",
       "    <tr>\n",
       "      <th>304560</th>\n",
       "      <td>vB83QK4g6DCtyNmVMkJdehj9UGZFfLHAPETsbrRcX2oa72Wp</td>\n",
       "      <td>strong</td>\n",
       "      <td>22</td>\n",
       "      <td>18</td>\n",
       "      <td>8</td>\n",
       "      <td>48</td>\n",
       "      <td>2</td>\n",
       "      <td>False</td>\n",
       "    </tr>\n",
       "    <tr>\n",
       "      <th>412567</th>\n",
       "      <td>eH8]Ioq]aZd))sdDN0IAFvGSOJFxWW(HSUyZ&gt;JgrYwe-M</td>\n",
       "      <td>strong</td>\n",
       "      <td>22</td>\n",
       "      <td>14</td>\n",
       "      <td>2</td>\n",
       "      <td>45</td>\n",
       "      <td>0</td>\n",
       "      <td>False</td>\n",
       "    </tr>\n",
       "    <tr>\n",
       "      <th>439087</th>\n",
       "      <td>LAUD123FILTER*+DETEKTORENPRIEM</td>\n",
       "      <td>strong</td>\n",
       "      <td>25</td>\n",
       "      <td>0</td>\n",
       "      <td>3</td>\n",
       "      <td>30</td>\n",
       "      <td>2</td>\n",
       "      <td>False</td>\n",
       "    </tr>\n",
       "    <tr>\n",
       "      <th>465207</th>\n",
       "      <td>OPy9W1DF4BKWKGJqcU1Ru6cRn1ekM9BvJAP7GxSAw78iaF...</td>\n",
       "      <td>strong</td>\n",
       "      <td>77</td>\n",
       "      <td>75</td>\n",
       "      <td>33</td>\n",
       "      <td>185</td>\n",
       "      <td>3</td>\n",
       "      <td>False</td>\n",
       "    </tr>\n",
       "  </tbody>\n",
       "</table>\n",
       "</div>"
      ],
      "text/plain": [
       "                                                 password strength num_upper  \\\n",
       "8897    2N8ziL2L3N!&R@s6VDTSWP33KyKlvoeCNqT1*3Ejf7rG6l...   strong        25   \n",
       "26977   In0LnUoff8wfayJGqzelyDqg4AMl9gBhgl3T2iZeONzh5g...   strong        80   \n",
       "108013                         YZM4YVKKBV7MDZ4FFDZZ-DVVDY   strong        22   \n",
       "125650  bV1*tB2$s$LW0$fgCqGetE$dZop9ugK7ftSl8BQu*$E4!r...   strong        30   \n",
       "238016  n43sSh567hDjJ678Fj5D857I6j58SjJ876F89762k3liyU...   strong        38   \n",
       "266666                     LAUD123FILTER* DETEKTORENPRIEM   strong        25   \n",
       "304560   vB83QK4g6DCtyNmVMkJdehj9UGZFfLHAPETsbrRcX2oa72Wp   strong        22   \n",
       "412567      eH8]Ioq]aZd))sdDN0IAFvGSOJFxWW(HSUyZ>JgrYwe-M   strong        22   \n",
       "439087                     LAUD123FILTER*+DETEKTORENPRIEM   strong        25   \n",
       "465207  OPy9W1DF4BKWKGJqcU1Ru6cRn1ekM9BvJAP7GxSAw78iaF...   strong        77   \n",
       "\n",
       "       num_lower num_numbers  password_length  consecutive_num_pairs  \\\n",
       "8897          18          16               64                      1   \n",
       "26977        109          31              220                      3   \n",
       "108013         0           3               26                      0   \n",
       "125650        34          15              100                      1   \n",
       "238016        70          39              147                     17   \n",
       "266666         0           3               30                      2   \n",
       "304560        18           8               48                      2   \n",
       "412567        14           2               45                      0   \n",
       "439087         0           3               30                      2   \n",
       "465207        75          33              185                      3   \n",
       "\n",
       "        consec_kboard_chars  \n",
       "8897                  False  \n",
       "26977                 False  \n",
       "108013                False  \n",
       "125650                False  \n",
       "238016                False  \n",
       "266666                False  \n",
       "304560                False  \n",
       "412567                False  \n",
       "439087                False  \n",
       "465207                False  "
      ]
     },
     "execution_count": 45,
     "metadata": {},
     "output_type": "execute_result"
    }
   ],
   "source": [
    "new_data[new_data['num_upper'] > 20]"
   ]
  },
  {
   "cell_type": "code",
   "execution_count": 46,
   "metadata": {},
   "outputs": [],
   "source": [
    "def count_punct(s):\n",
    "    \n",
    "    ''' Count punctuation occurences. '''\n",
    "    \n",
    "    num_punct = 0\n",
    "    for l in s:\n",
    "        if l in string.punctuation:\n",
    "            num_punct += 1\n",
    "    return num_punct\n",
    "\n",
    "def count_whitespaces(s):\n",
    "    \n",
    "    ''' Count whitespace occurences. '''\n",
    "    \n",
    "    num_space = 0\n",
    "    for l in s:\n",
    "        if l in string.whitespace:\n",
    "            num_space += 1\n",
    "    return num_space\n",
    "\n",
    "\n",
    "def get_consecutive_punct(x):\n",
    "    \n",
    "    ''' Count consecutive punctuation pairs. '''\n",
    "    \n",
    "    ix = -1\n",
    "    num_consec = 0\n",
    "    \n",
    "    for s in x:\n",
    "        if x.count(s) > 1:\n",
    "            ix += 1\n",
    "        else:\n",
    "            ix = x.index(s)\n",
    "        \n",
    "        if ix == len(x) - 1:\n",
    "            break\n",
    "        else:\n",
    "            if (s in string.punctuation) & (x[ix + 1] in string.punctuation):\n",
    "                num_consec += 1\n",
    "    return num_consec\n",
    "\n",
    "\n",
    "def get_consecutive_whitespaces(x):\n",
    "    \n",
    "    ''' Count consecutive punctuation pairs. '''\n",
    "    \n",
    "    ix = -1\n",
    "    num_consec = 0\n",
    "    \n",
    "    for s in x:\n",
    "        if x.count(s) > 1:\n",
    "            ix += 1\n",
    "        else:\n",
    "            ix = x.index(s)\n",
    "        \n",
    "        if ix == len(x) - 1:\n",
    "            break\n",
    "        else:\n",
    "            if (s in string.whitespace) & (x[ix + 1] in string.whitespace):\n",
    "                num_consec += 1\n",
    "    return num_consec"
   ]
  },
  {
   "cell_type": "markdown",
   "metadata": {},
   "source": [
    "**Feature 7:**\n",
    "\n",
    "**Number of punctuations**"
   ]
  },
  {
   "cell_type": "code",
   "execution_count": 47,
   "metadata": {},
   "outputs": [],
   "source": [
    "new_data['num_puncts'] = pwords.apply(count_punct)"
   ]
  },
  {
   "cell_type": "markdown",
   "metadata": {},
   "source": [
    "**Feature 8:**\n",
    "\n",
    "**Number of consecutive punctuation pairs**"
   ]
  },
  {
   "cell_type": "code",
   "execution_count": 48,
   "metadata": {},
   "outputs": [],
   "source": [
    "new_data['num_consec_punct_pairs'] = pwords.apply(get_consecutive_punct)"
   ]
  },
  {
   "cell_type": "code",
   "execution_count": 49,
   "metadata": {},
   "outputs": [
    {
     "data": {
      "text/html": [
       "<div>\n",
       "<style scoped>\n",
       "    .dataframe tbody tr th:only-of-type {\n",
       "        vertical-align: middle;\n",
       "    }\n",
       "\n",
       "    .dataframe tbody tr th {\n",
       "        vertical-align: top;\n",
       "    }\n",
       "\n",
       "    .dataframe thead th {\n",
       "        text-align: right;\n",
       "    }\n",
       "</style>\n",
       "<table border=\"1\" class=\"dataframe\">\n",
       "  <thead>\n",
       "    <tr style=\"text-align: right;\">\n",
       "      <th></th>\n",
       "      <th>password</th>\n",
       "      <th>strength</th>\n",
       "      <th>num_upper</th>\n",
       "      <th>num_lower</th>\n",
       "      <th>num_numbers</th>\n",
       "      <th>password_length</th>\n",
       "      <th>consecutive_num_pairs</th>\n",
       "      <th>consec_kboard_chars</th>\n",
       "      <th>num_puncts</th>\n",
       "      <th>num_consec_punct_pairs</th>\n",
       "    </tr>\n",
       "  </thead>\n",
       "  <tbody>\n",
       "    <tr>\n",
       "      <th>0</th>\n",
       "      <td>kzde5577</td>\n",
       "      <td>moderate</td>\n",
       "      <td>0</td>\n",
       "      <td>4</td>\n",
       "      <td>4</td>\n",
       "      <td>8</td>\n",
       "      <td>3</td>\n",
       "      <td>False</td>\n",
       "      <td>0</td>\n",
       "      <td>0</td>\n",
       "    </tr>\n",
       "    <tr>\n",
       "      <th>1</th>\n",
       "      <td>kino3434</td>\n",
       "      <td>moderate</td>\n",
       "      <td>0</td>\n",
       "      <td>4</td>\n",
       "      <td>4</td>\n",
       "      <td>8</td>\n",
       "      <td>3</td>\n",
       "      <td>False</td>\n",
       "      <td>0</td>\n",
       "      <td>0</td>\n",
       "    </tr>\n",
       "    <tr>\n",
       "      <th>2</th>\n",
       "      <td>visi7k1yr</td>\n",
       "      <td>moderate</td>\n",
       "      <td>0</td>\n",
       "      <td>7</td>\n",
       "      <td>2</td>\n",
       "      <td>9</td>\n",
       "      <td>0</td>\n",
       "      <td>False</td>\n",
       "      <td>0</td>\n",
       "      <td>0</td>\n",
       "    </tr>\n",
       "    <tr>\n",
       "      <th>3</th>\n",
       "      <td>megzy123</td>\n",
       "      <td>moderate</td>\n",
       "      <td>0</td>\n",
       "      <td>5</td>\n",
       "      <td>3</td>\n",
       "      <td>8</td>\n",
       "      <td>2</td>\n",
       "      <td>False</td>\n",
       "      <td>0</td>\n",
       "      <td>0</td>\n",
       "    </tr>\n",
       "    <tr>\n",
       "      <th>4</th>\n",
       "      <td>lamborghin1</td>\n",
       "      <td>moderate</td>\n",
       "      <td>0</td>\n",
       "      <td>10</td>\n",
       "      <td>1</td>\n",
       "      <td>11</td>\n",
       "      <td>0</td>\n",
       "      <td>False</td>\n",
       "      <td>0</td>\n",
       "      <td>0</td>\n",
       "    </tr>\n",
       "    <tr>\n",
       "      <th>5</th>\n",
       "      <td>AVYq1lDE4MgAZfNt</td>\n",
       "      <td>strong</td>\n",
       "      <td>9</td>\n",
       "      <td>5</td>\n",
       "      <td>2</td>\n",
       "      <td>16</td>\n",
       "      <td>0</td>\n",
       "      <td>False</td>\n",
       "      <td>0</td>\n",
       "      <td>0</td>\n",
       "    </tr>\n",
       "    <tr>\n",
       "      <th>6</th>\n",
       "      <td>u6c8vhow</td>\n",
       "      <td>moderate</td>\n",
       "      <td>0</td>\n",
       "      <td>6</td>\n",
       "      <td>2</td>\n",
       "      <td>8</td>\n",
       "      <td>0</td>\n",
       "      <td>False</td>\n",
       "      <td>0</td>\n",
       "      <td>0</td>\n",
       "    </tr>\n",
       "    <tr>\n",
       "      <th>7</th>\n",
       "      <td>v1118714</td>\n",
       "      <td>moderate</td>\n",
       "      <td>0</td>\n",
       "      <td>1</td>\n",
       "      <td>7</td>\n",
       "      <td>8</td>\n",
       "      <td>6</td>\n",
       "      <td>False</td>\n",
       "      <td>0</td>\n",
       "      <td>0</td>\n",
       "    </tr>\n",
       "    <tr>\n",
       "      <th>8</th>\n",
       "      <td>universe2908</td>\n",
       "      <td>moderate</td>\n",
       "      <td>0</td>\n",
       "      <td>8</td>\n",
       "      <td>4</td>\n",
       "      <td>12</td>\n",
       "      <td>3</td>\n",
       "      <td>False</td>\n",
       "      <td>0</td>\n",
       "      <td>0</td>\n",
       "    </tr>\n",
       "    <tr>\n",
       "      <th>9</th>\n",
       "      <td>as326159</td>\n",
       "      <td>moderate</td>\n",
       "      <td>0</td>\n",
       "      <td>2</td>\n",
       "      <td>6</td>\n",
       "      <td>8</td>\n",
       "      <td>5</td>\n",
       "      <td>False</td>\n",
       "      <td>0</td>\n",
       "      <td>0</td>\n",
       "    </tr>\n",
       "    <tr>\n",
       "      <th>10</th>\n",
       "      <td>asv5o9yu</td>\n",
       "      <td>moderate</td>\n",
       "      <td>0</td>\n",
       "      <td>6</td>\n",
       "      <td>2</td>\n",
       "      <td>8</td>\n",
       "      <td>0</td>\n",
       "      <td>False</td>\n",
       "      <td>0</td>\n",
       "      <td>0</td>\n",
       "    </tr>\n",
       "    <tr>\n",
       "      <th>11</th>\n",
       "      <td>612035180tok</td>\n",
       "      <td>moderate</td>\n",
       "      <td>0</td>\n",
       "      <td>3</td>\n",
       "      <td>9</td>\n",
       "      <td>12</td>\n",
       "      <td>8</td>\n",
       "      <td>False</td>\n",
       "      <td>0</td>\n",
       "      <td>0</td>\n",
       "    </tr>\n",
       "    <tr>\n",
       "      <th>12</th>\n",
       "      <td>jytifok873</td>\n",
       "      <td>moderate</td>\n",
       "      <td>0</td>\n",
       "      <td>7</td>\n",
       "      <td>3</td>\n",
       "      <td>10</td>\n",
       "      <td>2</td>\n",
       "      <td>False</td>\n",
       "      <td>0</td>\n",
       "      <td>0</td>\n",
       "    </tr>\n",
       "    <tr>\n",
       "      <th>13</th>\n",
       "      <td>WUt9IZzE0OQ7PkNE</td>\n",
       "      <td>strong</td>\n",
       "      <td>10</td>\n",
       "      <td>3</td>\n",
       "      <td>3</td>\n",
       "      <td>16</td>\n",
       "      <td>0</td>\n",
       "      <td>False</td>\n",
       "      <td>0</td>\n",
       "      <td>0</td>\n",
       "    </tr>\n",
       "    <tr>\n",
       "      <th>14</th>\n",
       "      <td>jerusalem393</td>\n",
       "      <td>moderate</td>\n",
       "      <td>0</td>\n",
       "      <td>9</td>\n",
       "      <td>3</td>\n",
       "      <td>12</td>\n",
       "      <td>2</td>\n",
       "      <td>False</td>\n",
       "      <td>0</td>\n",
       "      <td>0</td>\n",
       "    </tr>\n",
       "    <tr>\n",
       "      <th>15</th>\n",
       "      <td>g067057895</td>\n",
       "      <td>moderate</td>\n",
       "      <td>0</td>\n",
       "      <td>1</td>\n",
       "      <td>9</td>\n",
       "      <td>10</td>\n",
       "      <td>8</td>\n",
       "      <td>False</td>\n",
       "      <td>0</td>\n",
       "      <td>0</td>\n",
       "    </tr>\n",
       "    <tr>\n",
       "      <th>16</th>\n",
       "      <td>52558000aaa</td>\n",
       "      <td>moderate</td>\n",
       "      <td>0</td>\n",
       "      <td>3</td>\n",
       "      <td>8</td>\n",
       "      <td>11</td>\n",
       "      <td>7</td>\n",
       "      <td>False</td>\n",
       "      <td>0</td>\n",
       "      <td>0</td>\n",
       "    </tr>\n",
       "    <tr>\n",
       "      <th>17</th>\n",
       "      <td>idofo673</td>\n",
       "      <td>moderate</td>\n",
       "      <td>0</td>\n",
       "      <td>5</td>\n",
       "      <td>3</td>\n",
       "      <td>8</td>\n",
       "      <td>2</td>\n",
       "      <td>False</td>\n",
       "      <td>0</td>\n",
       "      <td>0</td>\n",
       "    </tr>\n",
       "    <tr>\n",
       "      <th>18</th>\n",
       "      <td>6975038lp</td>\n",
       "      <td>moderate</td>\n",
       "      <td>0</td>\n",
       "      <td>2</td>\n",
       "      <td>7</td>\n",
       "      <td>9</td>\n",
       "      <td>6</td>\n",
       "      <td>False</td>\n",
       "      <td>0</td>\n",
       "      <td>0</td>\n",
       "    </tr>\n",
       "    <tr>\n",
       "      <th>19</th>\n",
       "      <td>sbl571017</td>\n",
       "      <td>moderate</td>\n",
       "      <td>0</td>\n",
       "      <td>3</td>\n",
       "      <td>6</td>\n",
       "      <td>9</td>\n",
       "      <td>5</td>\n",
       "      <td>False</td>\n",
       "      <td>0</td>\n",
       "      <td>0</td>\n",
       "    </tr>\n",
       "  </tbody>\n",
       "</table>\n",
       "</div>"
      ],
      "text/plain": [
       "            password  strength num_upper num_lower num_numbers  \\\n",
       "0           kzde5577  moderate         0         4           4   \n",
       "1           kino3434  moderate         0         4           4   \n",
       "2          visi7k1yr  moderate         0         7           2   \n",
       "3           megzy123  moderate         0         5           3   \n",
       "4        lamborghin1  moderate         0        10           1   \n",
       "5   AVYq1lDE4MgAZfNt    strong         9         5           2   \n",
       "6           u6c8vhow  moderate         0         6           2   \n",
       "7           v1118714  moderate         0         1           7   \n",
       "8       universe2908  moderate         0         8           4   \n",
       "9           as326159  moderate         0         2           6   \n",
       "10          asv5o9yu  moderate         0         6           2   \n",
       "11      612035180tok  moderate         0         3           9   \n",
       "12        jytifok873  moderate         0         7           3   \n",
       "13  WUt9IZzE0OQ7PkNE    strong        10         3           3   \n",
       "14      jerusalem393  moderate         0         9           3   \n",
       "15        g067057895  moderate         0         1           9   \n",
       "16       52558000aaa  moderate         0         3           8   \n",
       "17          idofo673  moderate         0         5           3   \n",
       "18         6975038lp  moderate         0         2           7   \n",
       "19         sbl571017  moderate         0         3           6   \n",
       "\n",
       "    password_length  consecutive_num_pairs  consec_kboard_chars  num_puncts  \\\n",
       "0                 8                      3                False           0   \n",
       "1                 8                      3                False           0   \n",
       "2                 9                      0                False           0   \n",
       "3                 8                      2                False           0   \n",
       "4                11                      0                False           0   \n",
       "5                16                      0                False           0   \n",
       "6                 8                      0                False           0   \n",
       "7                 8                      6                False           0   \n",
       "8                12                      3                False           0   \n",
       "9                 8                      5                False           0   \n",
       "10                8                      0                False           0   \n",
       "11               12                      8                False           0   \n",
       "12               10                      2                False           0   \n",
       "13               16                      0                False           0   \n",
       "14               12                      2                False           0   \n",
       "15               10                      8                False           0   \n",
       "16               11                      7                False           0   \n",
       "17                8                      2                False           0   \n",
       "18                9                      6                False           0   \n",
       "19                9                      5                False           0   \n",
       "\n",
       "    num_consec_punct_pairs  \n",
       "0                        0  \n",
       "1                        0  \n",
       "2                        0  \n",
       "3                        0  \n",
       "4                        0  \n",
       "5                        0  \n",
       "6                        0  \n",
       "7                        0  \n",
       "8                        0  \n",
       "9                        0  \n",
       "10                       0  \n",
       "11                       0  \n",
       "12                       0  \n",
       "13                       0  \n",
       "14                       0  \n",
       "15                       0  \n",
       "16                       0  \n",
       "17                       0  \n",
       "18                       0  \n",
       "19                       0  "
      ]
     },
     "execution_count": 49,
     "metadata": {},
     "output_type": "execute_result"
    }
   ],
   "source": [
    "new_data.head(20)"
   ]
  },
  {
   "cell_type": "code",
   "execution_count": 50,
   "metadata": {},
   "outputs": [
    {
     "data": {
      "text/plain": [
       "0     651746\n",
       "1      11534\n",
       "2       3588\n",
       "3       1613\n",
       "4        543\n",
       "6        308\n",
       "5        167\n",
       "7         56\n",
       "8         36\n",
       "9         24\n",
       "10        13\n",
       "13         3\n",
       "11         2\n",
       "12         2\n",
       "21         1\n",
       "16         1\n",
       "17         1\n",
       "20         1\n",
       "Name: num_puncts, dtype: int64"
      ]
     },
     "execution_count": 50,
     "metadata": {},
     "output_type": "execute_result"
    }
   ],
   "source": [
    "new_data['num_puncts'].value_counts()"
   ]
  },
  {
   "cell_type": "code",
   "execution_count": 51,
   "metadata": {},
   "outputs": [
    {
     "data": {
      "text/plain": [
       "0     666451\n",
       "1       1661\n",
       "2        866\n",
       "3        292\n",
       "5        196\n",
       "4        111\n",
       "6         29\n",
       "7         15\n",
       "8          7\n",
       "9          6\n",
       "11         2\n",
       "12         1\n",
       "10         1\n",
       "14         1\n",
       "Name: num_consec_punct_pairs, dtype: int64"
      ]
     },
     "execution_count": 51,
     "metadata": {},
     "output_type": "execute_result"
    }
   ],
   "source": [
    "new_data['num_consec_punct_pairs'].value_counts()"
   ]
  },
  {
   "cell_type": "code",
   "execution_count": 52,
   "metadata": {},
   "outputs": [
    {
     "data": {
      "text/plain": [
       "10"
      ]
     },
     "execution_count": 52,
     "metadata": {},
     "output_type": "execute_result"
    }
   ],
   "source": [
    "len(new_data.columns)"
   ]
  },
  {
   "cell_type": "markdown",
   "metadata": {},
   "source": [
    "**Feature 9:**\n",
    "\n",
    "**Number of consecutive whitespace pairs**"
   ]
  },
  {
   "cell_type": "code",
   "execution_count": 53,
   "metadata": {},
   "outputs": [],
   "source": [
    "new_data['num_consec_space_pairs'] = pwords.apply(get_consecutive_whitespaces)"
   ]
  },
  {
   "cell_type": "markdown",
   "metadata": {},
   "source": [
    "**Feature 10:**\n",
    "\n",
    "**Number of whitespace characters**"
   ]
  },
  {
   "cell_type": "code",
   "execution_count": 54,
   "metadata": {},
   "outputs": [],
   "source": [
    "new_data['num_whitespaces'] = pwords.apply(count_whitespaces)"
   ]
  },
  {
   "cell_type": "code",
   "execution_count": 55,
   "metadata": {},
   "outputs": [
    {
     "data": {
      "text/plain": [
       "0    668876\n",
       "1       603\n",
       "2       111\n",
       "3        31\n",
       "4         8\n",
       "5         6\n",
       "7         2\n",
       "6         1\n",
       "8         1\n",
       "Name: num_whitespaces, dtype: int64"
      ]
     },
     "execution_count": 55,
     "metadata": {},
     "output_type": "execute_result"
    }
   ],
   "source": [
    "new_data['num_whitespaces'].value_counts()"
   ]
  },
  {
   "cell_type": "code",
   "execution_count": 56,
   "metadata": {},
   "outputs": [
    {
     "data": {
      "text/plain": [
       "0    669616\n",
       "1        16\n",
       "2         3\n",
       "4         2\n",
       "3         1\n",
       "5         1\n",
       "Name: num_consec_space_pairs, dtype: int64"
      ]
     },
     "execution_count": 56,
     "metadata": {},
     "output_type": "execute_result"
    }
   ],
   "source": [
    "new_data['num_consec_space_pairs'].value_counts()"
   ]
  },
  {
   "cell_type": "code",
   "execution_count": 57,
   "metadata": {},
   "outputs": [
    {
     "data": {
      "text/plain": [
       "12"
      ]
     },
     "execution_count": 57,
     "metadata": {},
     "output_type": "execute_result"
    }
   ],
   "source": [
    "len(new_data.columns)"
   ]
  },
  {
   "cell_type": "code",
   "execution_count": 58,
   "metadata": {},
   "outputs": [
    {
     "data": {
      "text/plain": [
       "21"
      ]
     },
     "execution_count": 58,
     "metadata": {},
     "output_type": "execute_result"
    }
   ],
   "source": [
    "gc.collect()"
   ]
  },
  {
   "cell_type": "markdown",
   "metadata": {},
   "source": [
    "**Data modelling**"
   ]
  },
  {
   "cell_type": "code",
   "execution_count": 59,
   "metadata": {},
   "outputs": [],
   "source": [
    "new_data = new_data.sample(frac = 1.0)\n",
    "\n",
    "X = new_data.drop(labels = ['strength', 'password'], axis = 1)\n",
    "y = new_data['strength']"
   ]
  },
  {
   "cell_type": "code",
   "execution_count": 60,
   "metadata": {},
   "outputs": [
    {
     "data": {
      "text/plain": [
       "array(['moderate', 'strong', 'weak'], dtype=object)"
      ]
     },
     "execution_count": 60,
     "metadata": {},
     "output_type": "execute_result"
    }
   ],
   "source": [
    "y.unique()"
   ]
  },
  {
   "cell_type": "code",
   "execution_count": 61,
   "metadata": {},
   "outputs": [
    {
     "data": {
      "text/plain": [
       "0"
      ]
     },
     "execution_count": 61,
     "metadata": {},
     "output_type": "execute_result"
    }
   ],
   "source": [
    "y.isnull().sum()"
   ]
  },
  {
   "cell_type": "code",
   "execution_count": 62,
   "metadata": {},
   "outputs": [],
   "source": [
    "from sklearn.preprocessing import LabelEncoder"
   ]
  },
  {
   "cell_type": "code",
   "execution_count": 63,
   "metadata": {},
   "outputs": [],
   "source": [
    "le = LabelEncoder()"
   ]
  },
  {
   "cell_type": "code",
   "execution_count": 64,
   "metadata": {},
   "outputs": [],
   "source": [
    "y = le.fit_transform(y)"
   ]
  },
  {
   "cell_type": "code",
   "execution_count": 65,
   "metadata": {},
   "outputs": [
    {
     "data": {
      "text/plain": [
       "array(['moderate', 'strong', 'weak'], dtype=object)"
      ]
     },
     "execution_count": 65,
     "metadata": {},
     "output_type": "execute_result"
    }
   ],
   "source": [
    "le.classes_"
   ]
  },
  {
   "cell_type": "code",
   "execution_count": 66,
   "metadata": {},
   "outputs": [
    {
     "data": {
      "text/plain": [
       "array([0, 1, 2])"
      ]
     },
     "execution_count": 66,
     "metadata": {},
     "output_type": "execute_result"
    }
   ],
   "source": [
    "np.unique(y)"
   ]
  },
  {
   "cell_type": "code",
   "execution_count": 67,
   "metadata": {},
   "outputs": [
    {
     "data": {
      "text/plain": [
       "array(['moderate', 'strong', 'weak'], dtype=object)"
      ]
     },
     "execution_count": 67,
     "metadata": {},
     "output_type": "execute_result"
    }
   ],
   "source": [
    "le.inverse_transform(np.unique(y))"
   ]
  },
  {
   "cell_type": "code",
   "execution_count": 68,
   "metadata": {},
   "outputs": [],
   "source": [
    "from sklearn.model_selection import train_test_split"
   ]
  },
  {
   "cell_type": "code",
   "execution_count": 69,
   "metadata": {},
   "outputs": [],
   "source": [
    "### Split data into train, validation, and test sets\n",
    "X_train, X_test, y_train, y_test = train_test_split(X, y, stratify = y, test_size = 0.35) ##test_size was 0.4 before\n",
    "X_valid, X_test, y_valid, y_test = train_test_split(X_test, y_test, stratify = y_test, test_size = 0.4)"
   ]
  },
  {
   "cell_type": "code",
   "execution_count": 70,
   "metadata": {},
   "outputs": [],
   "source": [
    "from sklearn.linear_model import LogisticRegression"
   ]
  },
  {
   "cell_type": "code",
   "execution_count": 71,
   "metadata": {},
   "outputs": [],
   "source": [
    "log_reg = LogisticRegression(max_iter = 10000, n_jobs = -1)"
   ]
  },
  {
   "cell_type": "code",
   "execution_count": 72,
   "metadata": {},
   "outputs": [
    {
     "data": {
      "text/plain": [
       "LogisticRegression(max_iter=10000, n_jobs=-1)"
      ]
     },
     "execution_count": 72,
     "metadata": {},
     "output_type": "execute_result"
    }
   ],
   "source": [
    "log_reg.fit(X_train, y_train)"
   ]
  },
  {
   "cell_type": "code",
   "execution_count": 73,
   "metadata": {},
   "outputs": [
    {
     "data": {
      "text/plain": [
       "0"
      ]
     },
     "execution_count": 73,
     "metadata": {},
     "output_type": "execute_result"
    }
   ],
   "source": [
    "gc.collect()"
   ]
  },
  {
   "cell_type": "markdown",
   "metadata": {},
   "source": [
    "---"
   ]
  },
  {
   "cell_type": "markdown",
   "metadata": {},
   "source": [
    "## **Model Performance**"
   ]
  },
  {
   "cell_type": "code",
   "execution_count": 74,
   "metadata": {},
   "outputs": [],
   "source": [
    "from sklearn.metrics import classification_report, confusion_matrix\n",
    "from sklearn.metrics import accuracy_score, precision_score, f1_score, recall_score"
   ]
  },
  {
   "cell_type": "code",
   "execution_count": 75,
   "metadata": {},
   "outputs": [
    {
     "name": "stdout",
     "output_type": "stream",
     "text": [
      "Train performance:\n",
      "              precision    recall  f1-score   support\n",
      "\n",
      "           0       1.00      1.00      1.00    322920\n",
      "           1       1.00      1.00      1.00     54039\n",
      "           2       1.00      1.00      1.00     58306\n",
      "\n",
      "    accuracy                           1.00    435265\n",
      "   macro avg       1.00      1.00      1.00    435265\n",
      "weighted avg       1.00      1.00      1.00    435265\n",
      "\n"
     ]
    }
   ],
   "source": [
    "print(f'Train performance:\\n{classification_report(y_train, log_reg.predict(X_train))}')"
   ]
  },
  {
   "cell_type": "code",
   "execution_count": 76,
   "metadata": {},
   "outputs": [
    {
     "name": "stdout",
     "output_type": "stream",
     "text": [
      "Validation performance:\n",
      "              precision    recall  f1-score   support\n",
      "\n",
      "           0       1.00      1.00      1.00    104328\n",
      "           1       1.00      1.00      1.00     17459\n",
      "           2       1.00      1.00      1.00     18837\n",
      "\n",
      "    accuracy                           1.00    140624\n",
      "   macro avg       1.00      1.00      1.00    140624\n",
      "weighted avg       1.00      1.00      1.00    140624\n",
      "\n"
     ]
    }
   ],
   "source": [
    "print(f'Validation performance:\\n{classification_report(y_valid, log_reg.predict(X_valid))}')"
   ]
  },
  {
   "cell_type": "code",
   "execution_count": 77,
   "metadata": {},
   "outputs": [
    {
     "name": "stdout",
     "output_type": "stream",
     "text": [
      "Test performance:\n",
      "              precision    recall  f1-score   support\n",
      "\n",
      "           0       1.00      1.00      1.00     69553\n",
      "           1       1.00      1.00      1.00     11639\n",
      "           2       1.00      1.00      1.00     12558\n",
      "\n",
      "    accuracy                           1.00     93750\n",
      "   macro avg       1.00      1.00      1.00     93750\n",
      "weighted avg       1.00      1.00      1.00     93750\n",
      "\n"
     ]
    }
   ],
   "source": [
    "print(f'Test performance:\\n{classification_report(y_test, log_reg.predict(X_test))}')"
   ]
  },
  {
   "cell_type": "code",
   "execution_count": 78,
   "metadata": {},
   "outputs": [
    {
     "data": {
      "text/plain": [
       "array([[ 6.21131769e-02,  1.61896207e-01,  2.25260220e-01,\n",
       "         8.57879235e-01,  1.08923995e-01,  3.81882020e-02,\n",
       "         2.04777133e-01,  1.17346409e-02, -8.78896914e-02,\n",
       "         6.27974281e-01],\n",
       "       [ 1.51104923e+00,  1.31847966e+00,  1.64453129e+00,\n",
       "         1.21732187e+01, -1.99372313e-01, -2.31232726e-02,\n",
       "         1.93678895e+00, -1.84146793e-01, -4.22919600e-04,\n",
       "         1.15228452e+00],\n",
       "       [-1.57316240e+00, -1.48037587e+00, -1.86979151e+00,\n",
       "        -1.30310979e+01,  9.04483176e-02, -1.50649294e-02,\n",
       "        -2.14156609e+00,  1.72412153e-01,  8.83126110e-02,\n",
       "        -1.78025880e+00]])"
      ]
     },
     "execution_count": 78,
     "metadata": {},
     "output_type": "execute_result"
    }
   ],
   "source": [
    "log_reg.coef_"
   ]
  },
  {
   "cell_type": "code",
   "execution_count": 79,
   "metadata": {},
   "outputs": [
    {
     "data": {
      "text/plain": [
       "array([  17.48495834, -151.87671053,  134.39175219])"
      ]
     },
     "execution_count": 79,
     "metadata": {},
     "output_type": "execute_result"
    }
   ],
   "source": [
    "log_reg.intercept_"
   ]
  },
  {
   "cell_type": "markdown",
   "metadata": {},
   "source": [
    "---"
   ]
  },
  {
   "cell_type": "markdown",
   "metadata": {},
   "source": [
    "### **Confusion Matrix**"
   ]
  },
  {
   "cell_type": "code",
   "execution_count": 80,
   "metadata": {},
   "outputs": [
    {
     "data": {
      "text/plain": [
       "array([[322913,      0,      7],\n",
       "       [     3,  54036,      0],\n",
       "       [     1,      0,  58305]], dtype=int64)"
      ]
     },
     "execution_count": 80,
     "metadata": {},
     "output_type": "execute_result"
    }
   ],
   "source": [
    "confusion_matrix(y_train, log_reg.predict(X_train))"
   ]
  },
  {
   "cell_type": "code",
   "execution_count": 81,
   "metadata": {},
   "outputs": [
    {
     "data": {
      "text/plain": [
       "array([[104328,      0,      0],\n",
       "       [     0,  17459,      0],\n",
       "       [     0,      0,  18837]], dtype=int64)"
      ]
     },
     "execution_count": 81,
     "metadata": {},
     "output_type": "execute_result"
    }
   ],
   "source": [
    "confusion_matrix(y_valid, log_reg.predict(X_valid))"
   ]
  },
  {
   "cell_type": "code",
   "execution_count": 82,
   "metadata": {},
   "outputs": [
    {
     "data": {
      "text/plain": [
       "array([[69552,     0,     1],\n",
       "       [    1, 11638,     0],\n",
       "       [    0,     0, 12558]], dtype=int64)"
      ]
     },
     "execution_count": 82,
     "metadata": {},
     "output_type": "execute_result"
    }
   ],
   "source": [
    "confusion_matrix(y_test, log_reg.predict(X_test))"
   ]
  },
  {
   "cell_type": "markdown",
   "metadata": {},
   "source": [
    "---"
   ]
  },
  {
   "cell_type": "markdown",
   "metadata": {},
   "source": [
    "### **Train data**"
   ]
  },
  {
   "cell_type": "code",
   "execution_count": 83,
   "metadata": {},
   "outputs": [
    {
     "data": {
      "text/plain": [
       "0.9999747280392405"
      ]
     },
     "execution_count": 83,
     "metadata": {},
     "output_type": "execute_result"
    }
   ],
   "source": [
    "accuracy_score(y_train, log_reg.predict(X_train))"
   ]
  },
  {
   "cell_type": "code",
   "execution_count": 84,
   "metadata": {},
   "outputs": [
    {
     "data": {
      "text/plain": [
       "0.9999685521499307"
      ]
     },
     "execution_count": 84,
     "metadata": {},
     "output_type": "execute_result"
    }
   ],
   "source": [
    "recall_score(y_train, log_reg.predict(X_train), average = 'macro')"
   ]
  },
  {
   "cell_type": "code",
   "execution_count": 85,
   "metadata": {},
   "outputs": [
    {
     "data": {
      "text/plain": [
       "0.9999558563380809"
      ]
     },
     "execution_count": 85,
     "metadata": {},
     "output_type": "execute_result"
    }
   ],
   "source": [
    "precision_score(y_train, log_reg.predict(X_train), average = 'macro')"
   ]
  },
  {
   "cell_type": "code",
   "execution_count": 86,
   "metadata": {},
   "outputs": [
    {
     "data": {
      "text/plain": [
       "0.9999622030976677"
      ]
     },
     "execution_count": 86,
     "metadata": {},
     "output_type": "execute_result"
    }
   ],
   "source": [
    "f1_score(y_train, log_reg.predict(X_train), average = 'macro')"
   ]
  },
  {
   "cell_type": "markdown",
   "metadata": {},
   "source": [
    "---"
   ]
  },
  {
   "cell_type": "markdown",
   "metadata": {},
   "source": [
    "### **Validation data**"
   ]
  },
  {
   "cell_type": "code",
   "execution_count": 87,
   "metadata": {},
   "outputs": [
    {
     "data": {
      "text/plain": [
       "1.0"
      ]
     },
     "execution_count": 87,
     "metadata": {},
     "output_type": "execute_result"
    }
   ],
   "source": [
    "### Accuracy\n",
    "accuracy_score(y_valid, log_reg.predict(X_valid))"
   ]
  },
  {
   "cell_type": "code",
   "execution_count": 88,
   "metadata": {},
   "outputs": [
    {
     "data": {
      "text/plain": [
       "1.0"
      ]
     },
     "execution_count": 88,
     "metadata": {},
     "output_type": "execute_result"
    }
   ],
   "source": [
    "### Recall\n",
    "recall_score(y_valid, log_reg.predict(X_valid), average = 'macro')"
   ]
  },
  {
   "cell_type": "code",
   "execution_count": 89,
   "metadata": {},
   "outputs": [
    {
     "data": {
      "text/plain": [
       "1.0"
      ]
     },
     "execution_count": 89,
     "metadata": {},
     "output_type": "execute_result"
    }
   ],
   "source": [
    "### Precision\n",
    "precision_score(y_valid, log_reg.predict(X_valid), average = 'macro')"
   ]
  },
  {
   "cell_type": "code",
   "execution_count": 90,
   "metadata": {},
   "outputs": [
    {
     "data": {
      "text/plain": [
       "1.0"
      ]
     },
     "execution_count": 90,
     "metadata": {},
     "output_type": "execute_result"
    }
   ],
   "source": [
    "### F1-score\n",
    "f1_score(y_valid, log_reg.predict(X_valid), average = 'macro')"
   ]
  },
  {
   "cell_type": "markdown",
   "metadata": {},
   "source": [
    "---"
   ]
  },
  {
   "cell_type": "markdown",
   "metadata": {},
   "source": [
    "### **Test data**"
   ]
  },
  {
   "cell_type": "code",
   "execution_count": 91,
   "metadata": {},
   "outputs": [
    {
     "data": {
      "text/plain": [
       "0.9999786666666667"
      ]
     },
     "execution_count": 91,
     "metadata": {},
     "output_type": "execute_result"
    }
   ],
   "source": [
    "### Accuracy\n",
    "accuracy_score(y_test, log_reg.predict(X_test))"
   ]
  },
  {
   "cell_type": "code",
   "execution_count": 92,
   "metadata": {},
   "outputs": [
    {
     "data": {
      "text/plain": [
       "0.9999665681469173"
      ]
     },
     "execution_count": 92,
     "metadata": {},
     "output_type": "execute_result"
    }
   ],
   "source": [
    "### Recall\n",
    "recall_score(y_test, log_reg.predict(X_test), average = 'macro')"
   ]
  },
  {
   "cell_type": "code",
   "execution_count": 93,
   "metadata": {},
   "outputs": [
    {
     "data": {
      "text/plain": [
       "0.9999686661003494"
      ]
     },
     "execution_count": 93,
     "metadata": {},
     "output_type": "execute_result"
    }
   ],
   "source": [
    "### Precision\n",
    "precision_score(y_test, log_reg.predict(X_test), average = 'macro')"
   ]
  },
  {
   "cell_type": "code",
   "execution_count": 94,
   "metadata": {},
   "outputs": [
    {
     "data": {
      "text/plain": [
       "0.9999676159800925"
      ]
     },
     "execution_count": 94,
     "metadata": {},
     "output_type": "execute_result"
    }
   ],
   "source": [
    "### F1-score\n",
    "f1_score(y_test, log_reg.predict(X_test), average = 'macro')"
   ]
  },
  {
   "cell_type": "markdown",
   "metadata": {},
   "source": [
    "### Test Password Strength"
   ]
  },
  {
   "cell_type": "code",
   "execution_count": 95,
   "metadata": {},
   "outputs": [],
   "source": [
    "def generate_features(df):\n",
    "    \n",
    "    ''' Generate features for password(s). '''\n",
    "    \n",
    "    data = pd.DataFrame()\n",
    "    \n",
    "    data['num_upper'] = df.apply(count_characters, convert_dtype = False, **{'alpha' : True, 'upper' : True})\n",
    "    data['num_lower'] = df.apply(count_characters, convert_dtype = False, **{'alpha' : True, 'upper' : False})\n",
    "    data['num_numbers'] = df.apply(count_characters, convert_dtype = False, **{'alpha' : False, 'upper' : True})\n",
    "    \n",
    "    data['password_length'] = df.apply(lambda x: len(x))\n",
    "    data['consecutive_num_pairs'] = df.apply(get_consecutive_numbers)\n",
    "    data['consec_kboard_chars'] = df.apply(match_re, convert_dtype = True,\n",
    "                                           **dict(zip(('p1', 'p2'), (pattern, new_pattern))))\n",
    "    \n",
    "    data['num_puncts'] = df.apply(count_punct)\n",
    "    data['num_consec_punct_pairs'] = df.apply(get_consecutive_punct)\n",
    "    data['num_consec_space_pairs'] = df.apply(get_consecutive_whitespaces)\n",
    "    \n",
    "    data['num_whitespaces'] = df.apply(count_whitespaces)\n",
    "    \n",
    "    return data"
   ]
  },
  {
   "cell_type": "code",
   "execution_count": 96,
   "metadata": {},
   "outputs": [],
   "source": [
    "def get_prediction(s, model, return_features = False):\n",
    "    \n",
    "    ''' Obtain strength prediction for password(s). '''\n",
    "    \n",
    "    p = pd.Series(s)\n",
    "    \n",
    "    features = generate_features(p)\n",
    "    pred = model.predict(features)\n",
    "    pred = le.inverse_transform(pred)\n",
    "    \n",
    "    return (pred, features) if return_features else pred"
   ]
  },
  {
   "cell_type": "code",
   "execution_count": 97,
   "metadata": {},
   "outputs": [],
   "source": [
    "p = get_prediction('shcjIIICJIhdytGSG6138966)(76%%)', model = log_reg, return_features = True)"
   ]
  },
  {
   "cell_type": "code",
   "execution_count": 98,
   "metadata": {},
   "outputs": [
    {
     "data": {
      "text/html": [
       "<div>\n",
       "<style scoped>\n",
       "    .dataframe tbody tr th:only-of-type {\n",
       "        vertical-align: middle;\n",
       "    }\n",
       "\n",
       "    .dataframe tbody tr th {\n",
       "        vertical-align: top;\n",
       "    }\n",
       "\n",
       "    .dataframe thead th {\n",
       "        text-align: right;\n",
       "    }\n",
       "</style>\n",
       "<table border=\"1\" class=\"dataframe\">\n",
       "  <thead>\n",
       "    <tr style=\"text-align: right;\">\n",
       "      <th></th>\n",
       "      <th>0</th>\n",
       "    </tr>\n",
       "  </thead>\n",
       "  <tbody>\n",
       "    <tr>\n",
       "      <th>num_upper</th>\n",
       "      <td>9</td>\n",
       "    </tr>\n",
       "    <tr>\n",
       "      <th>num_lower</th>\n",
       "      <td>8</td>\n",
       "    </tr>\n",
       "    <tr>\n",
       "      <th>num_numbers</th>\n",
       "      <td>9</td>\n",
       "    </tr>\n",
       "    <tr>\n",
       "      <th>password_length</th>\n",
       "      <td>31</td>\n",
       "    </tr>\n",
       "    <tr>\n",
       "      <th>consecutive_num_pairs</th>\n",
       "      <td>7</td>\n",
       "    </tr>\n",
       "    <tr>\n",
       "      <th>consec_kboard_chars</th>\n",
       "      <td>False</td>\n",
       "    </tr>\n",
       "    <tr>\n",
       "      <th>num_puncts</th>\n",
       "      <td>5</td>\n",
       "    </tr>\n",
       "    <tr>\n",
       "      <th>num_consec_punct_pairs</th>\n",
       "      <td>3</td>\n",
       "    </tr>\n",
       "    <tr>\n",
       "      <th>num_consec_space_pairs</th>\n",
       "      <td>0</td>\n",
       "    </tr>\n",
       "    <tr>\n",
       "      <th>num_whitespaces</th>\n",
       "      <td>0</td>\n",
       "    </tr>\n",
       "  </tbody>\n",
       "</table>\n",
       "</div>"
      ],
      "text/plain": [
       "                            0\n",
       "num_upper                   9\n",
       "num_lower                   8\n",
       "num_numbers                 9\n",
       "password_length            31\n",
       "consecutive_num_pairs       7\n",
       "consec_kboard_chars     False\n",
       "num_puncts                  5\n",
       "num_consec_punct_pairs      3\n",
       "num_consec_space_pairs      0\n",
       "num_whitespaces             0"
      ]
     },
     "execution_count": 98,
     "metadata": {},
     "output_type": "execute_result"
    }
   ],
   "source": [
    "p[1].T"
   ]
  },
  {
   "cell_type": "code",
   "execution_count": 99,
   "metadata": {},
   "outputs": [
    {
     "data": {
      "text/html": [
       "<div>\n",
       "<style scoped>\n",
       "    .dataframe tbody tr th:only-of-type {\n",
       "        vertical-align: middle;\n",
       "    }\n",
       "\n",
       "    .dataframe tbody tr th {\n",
       "        vertical-align: top;\n",
       "    }\n",
       "\n",
       "    .dataframe thead th {\n",
       "        text-align: right;\n",
       "    }\n",
       "</style>\n",
       "<table border=\"1\" class=\"dataframe\">\n",
       "  <thead>\n",
       "    <tr style=\"text-align: right;\">\n",
       "      <th></th>\n",
       "      <th>0</th>\n",
       "    </tr>\n",
       "  </thead>\n",
       "  <tbody>\n",
       "    <tr>\n",
       "      <th>num_upper</th>\n",
       "      <td>0</td>\n",
       "    </tr>\n",
       "    <tr>\n",
       "      <th>num_lower</th>\n",
       "      <td>0</td>\n",
       "    </tr>\n",
       "    <tr>\n",
       "      <th>num_numbers</th>\n",
       "      <td>16</td>\n",
       "    </tr>\n",
       "    <tr>\n",
       "      <th>password_length</th>\n",
       "      <td>16</td>\n",
       "    </tr>\n",
       "    <tr>\n",
       "      <th>consecutive_num_pairs</th>\n",
       "      <td>15</td>\n",
       "    </tr>\n",
       "    <tr>\n",
       "      <th>consec_kboard_chars</th>\n",
       "      <td>False</td>\n",
       "    </tr>\n",
       "    <tr>\n",
       "      <th>num_puncts</th>\n",
       "      <td>0</td>\n",
       "    </tr>\n",
       "    <tr>\n",
       "      <th>num_consec_punct_pairs</th>\n",
       "      <td>0</td>\n",
       "    </tr>\n",
       "    <tr>\n",
       "      <th>num_consec_space_pairs</th>\n",
       "      <td>0</td>\n",
       "    </tr>\n",
       "    <tr>\n",
       "      <th>num_whitespaces</th>\n",
       "      <td>0</td>\n",
       "    </tr>\n",
       "  </tbody>\n",
       "</table>\n",
       "</div>"
      ],
      "text/plain": [
       "                            0\n",
       "num_upper                   0\n",
       "num_lower                   0\n",
       "num_numbers                16\n",
       "password_length            16\n",
       "consecutive_num_pairs      15\n",
       "consec_kboard_chars     False\n",
       "num_puncts                  0\n",
       "num_consec_punct_pairs      0\n",
       "num_consec_space_pairs      0\n",
       "num_whitespaces             0"
      ]
     },
     "execution_count": 99,
     "metadata": {},
     "output_type": "execute_result"
    }
   ],
   "source": [
    "get_prediction('4444444444444444', log_reg, True)[1].T"
   ]
  },
  {
   "cell_type": "code",
   "execution_count": 100,
   "metadata": {},
   "outputs": [
    {
     "data": {
      "text/plain": [
       "array(['strong'], dtype=object)"
      ]
     },
     "execution_count": 100,
     "metadata": {},
     "output_type": "execute_result"
    }
   ],
   "source": [
    "get_prediction('Discombobulation', model = log_reg)"
   ]
  },
  {
   "cell_type": "code",
   "execution_count": 101,
   "metadata": {},
   "outputs": [
    {
     "data": {
      "text/plain": [
       "array(['strong'], dtype=object)"
      ]
     },
     "execution_count": 101,
     "metadata": {},
     "output_type": "execute_result"
    }
   ],
   "source": [
    "get_prediction('623r2977786E8FV  V83GED736F', model = log_reg)"
   ]
  },
  {
   "cell_type": "code",
   "execution_count": 102,
   "metadata": {},
   "outputs": [],
   "source": [
    "from sklearn.metrics import ConfusionMatrixDisplay"
   ]
  },
  {
   "cell_type": "code",
   "execution_count": 103,
   "metadata": {},
   "outputs": [
    {
     "data": {
      "text/plain": [
       "<Figure size 720x720 with 0 Axes>"
      ]
     },
     "metadata": {},
     "output_type": "display_data"
    },
    {
     "data": {
      "image/png": "[encoded data removed]",
      "text/plain": [
       "<Figure size 432x288 with 2 Axes>"
      ]
     },
     "metadata": {
      "needs_background": "light"
     },
     "output_type": "display_data"
    }
   ],
   "source": [
    "import matplotlib.pyplot as plt\n",
    "cmd = ConfusionMatrixDisplay(confusion_matrix(y_train, log_reg.predict(X_train)),\n",
    "                             display_labels = le.inverse_transform([0, 1, 2]))\n",
    "#plt.imshow(cmd.im_)\n",
    "plt.figure(figsize = (10, 10))\n",
    "cmd.plot()\n",
    "plt.show()"
   ]
  },
  {
   "cell_type": "code",
   "execution_count": 104,
   "metadata": {},
   "outputs": [
    {
     "data": {
      "image/png": "[encoded data removed]",
      "text/plain": [
       "<Figure size 432x288 with 2 Axes>"
      ]
     },
     "execution_count": 104,
     "metadata": {},
     "output_type": "execute_result"
    }
   ],
   "source": [
    "cmd.figure_"
   ]
  },
  {
   "cell_type": "code",
   "execution_count": 105,
   "metadata": {},
   "outputs": [
    {
     "data": {
      "text/plain": [
       "['__class__',\n",
       " '__delattr__',\n",
       " '__dict__',\n",
       " '__dir__',\n",
       " '__doc__',\n",
       " '__eq__',\n",
       " '__format__',\n",
       " '__ge__',\n",
       " '__getattribute__',\n",
       " '__gt__',\n",
       " '__hash__',\n",
       " '__init__',\n",
       " '__init_subclass__',\n",
       " '__le__',\n",
       " '__lt__',\n",
       " '__module__',\n",
       " '__ne__',\n",
       " '__new__',\n",
       " '__reduce__',\n",
       " '__reduce_ex__',\n",
       " '__repr__',\n",
       " '__setattr__',\n",
       " '__sizeof__',\n",
       " '__str__',\n",
       " '__subclasshook__',\n",
       " '__weakref__',\n",
       " 'ax_',\n",
       " 'confusion_matrix',\n",
       " 'display_labels',\n",
       " 'figure_',\n",
       " 'im_',\n",
       " 'plot',\n",
       " 'text_']"
      ]
     },
     "execution_count": 105,
     "metadata": {},
     "output_type": "execute_result"
    }
   ],
   "source": [
    "dir(cmd)"
   ]
  },
  {
   "cell_type": "code",
   "execution_count": 106,
   "metadata": {},
   "outputs": [
    {
     "data": {
      "text/plain": [
       "<sklearn.metrics._plot.confusion_matrix.ConfusionMatrixDisplay at 0x2cba46fcb80>"
      ]
     },
     "execution_count": 106,
     "metadata": {},
     "output_type": "execute_result"
    },
    {
     "data": {
      "image/png": "[encoded data removed]",
      "text/plain": [
       "<Figure size 432x288 with 2 Axes>"
      ]
     },
     "metadata": {
      "needs_background": "light"
     },
     "output_type": "display_data"
    }
   ],
   "source": [
    "from sklearn.metrics import plot_confusion_matrix\n",
    "\n",
    "plot_confusion_matrix(log_reg, X_train, y_train)"
   ]
  },
  {
   "cell_type": "code",
   "execution_count": 107,
   "metadata": {},
   "outputs": [],
   "source": [
    "from setuptools import setup"
   ]
  },
  {
   "cell_type": "code",
   "execution_count": 114,
   "metadata": {},
   "outputs": [],
   "source": [
    "p = get_prediction(['chjvh', 'shducryf'], model = log_reg)"
   ]
  },
  {
   "cell_type": "code",
   "execution_count": 117,
   "metadata": {},
   "outputs": [
    {
     "name": "stdout",
     "output_type": "stream",
     "text": [
      "1 gives weak\n",
      "2 gives moderate\n"
     ]
    }
   ],
   "source": [
    "for n, i in zip([1, 2], p):\n",
    "    print(f'{n} gives {i}')"
   ]
  },
  {
   "cell_type": "code",
   "execution_count": null,
   "metadata": {},
   "outputs": [],
   "source": [
    "print(os.getcwd())"
   ]
  },
  {
   "cell_type": "code",
   "execution_count": null,
   "metadata": {},
   "outputs": [],
   "source": []
  }
 ],
 "metadata": {
  "kernelspec": {
   "display_name": "Python 3 (ipykernel)",
   "language": "python",
   "name": "python3"
  },
  "language_info": {
   "codemirror_mode": {
    "name": "ipython",
    "version": 3
   },
   "file_extension": ".py",
   "mimetype": "text/x-python",
   "name": "python",
   "nbconvert_exporter": "python",
   "pygments_lexer": "ipython3",
   "version": "3.9.7"
  }
 },
 "nbformat": 4,
 "nbformat_minor": 4
}
